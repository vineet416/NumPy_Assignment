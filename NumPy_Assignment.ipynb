{
 "cells": [
  {
   "cell_type": "markdown",
   "id": "fd23fe2a-40e8-4717-946c-dd2f938785e0",
   "metadata": {},
   "source": [
    "# NumPy Assignment"
   ]
  },
  {
   "cell_type": "code",
   "execution_count": 1,
   "id": "7d920118-051e-40b9-a8e6-66ca4b2b53b4",
   "metadata": {},
   "outputs": [],
   "source": [
    "# importing numpy and pandas\n",
    "\n",
    "import numpy as np\n",
    "import pandas as pd"
   ]
  },
  {
   "cell_type": "markdown",
   "id": "f264c0f3-d74f-4a4b-a07b-f31d619e1c33",
   "metadata": {},
   "source": [
    "# 1. Create a NumPy array 'arr' of integers from 0 to 5 and print its data type."
   ]
  },
  {
   "cell_type": "code",
   "execution_count": 2,
   "id": "0c61bad9-6280-4c76-b2d1-dc4f6f738a02",
   "metadata": {},
   "outputs": [
    {
     "name": "stdout",
     "output_type": "stream",
     "text": [
      "The new created array is : [0 1 2 3 4 5]\n",
      "The data type of the array is : int64\n"
     ]
    },
    {
     "data": {
      "text/plain": [
       "array([0, 1, 2, 3, 4, 5])"
      ]
     },
     "execution_count": 2,
     "metadata": {},
     "output_type": "execute_result"
    }
   ],
   "source": [
    "arr = np.arange(6)\n",
    "print(\"The new created array is :\", arr)\n",
    "print(\"The data type of the array is :\", arr.dtype)\n",
    "arr"
   ]
  },
  {
   "cell_type": "markdown",
   "id": "db47ab7a-236a-4414-9089-6e2e3461c251",
   "metadata": {},
   "source": [
    "# 2. Given a NumPy array 'arr', check if its data type is float64."
   ]
  },
  {
   "cell_type": "code",
   "execution_count": 3,
   "id": "43323ef4-66da-4869-b167-1ee210ad06a9",
   "metadata": {},
   "outputs": [
    {
     "name": "stdout",
     "output_type": "stream",
     "text": [
      "The data type of the array is float64.\n"
     ]
    }
   ],
   "source": [
    "arr = np.array([1.5, 2.6, 3.7])\n",
    "\n",
    "if arr.dtype == np.float64:\n",
    "    print(\"The data type of the array is float64.\")\n",
    "else:\n",
    "    print(\"The data type of the array is not float64.\")"
   ]
  },
  {
   "cell_type": "markdown",
   "id": "c720bb10-8366-4aff-8369-a5830330239d",
   "metadata": {},
   "source": [
    "# 3. Create a NumPy array 'arr' with a data type of complex128 containing three complex numbers."
   ]
  },
  {
   "cell_type": "code",
   "execution_count": 4,
   "id": "08d3551a-abcc-431a-9718-aaadef230aad",
   "metadata": {},
   "outputs": [
    {
     "name": "stdout",
     "output_type": "stream",
     "text": [
      "complex128\n"
     ]
    }
   ],
   "source": [
    "arr = np.array([1 + 1j, 2 + 2j, 3 + 3j], dtype=np.complex128)\n",
    "print(arr.dtype)"
   ]
  },
  {
   "cell_type": "markdown",
   "id": "420e6083-1d2e-4827-88fd-6c47f0fb48fd",
   "metadata": {},
   "source": [
    "# 4. Convert an existing NumPy array 'arr' of integers to float32 data type."
   ]
  },
  {
   "cell_type": "code",
   "execution_count": 5,
   "id": "250a961d-df6c-4630-b7f9-9e5cb7a8d8dd",
   "metadata": {},
   "outputs": [
    {
     "data": {
      "text/plain": [
       "dtype('float32')"
      ]
     },
     "execution_count": 5,
     "metadata": {},
     "output_type": "execute_result"
    }
   ],
   "source": [
    "arr = np.array([1,2,3,4,5,6])\n",
    "arr_float32 = arr.astype(np.float32)\n",
    "\n",
    "arr_float32.dtype"
   ]
  },
  {
   "cell_type": "markdown",
   "id": "5c2c1cde-b53e-4064-951c-1f34228943bd",
   "metadata": {},
   "source": [
    "# 5. Given a NumPy array 'arr' with float64 data type, convert it to float32 to reduce decimal precision."
   ]
  },
  {
   "cell_type": "code",
   "execution_count": 6,
   "id": "cedcc944-61b9-4d51-9f25-152aae33410a",
   "metadata": {},
   "outputs": [
    {
     "name": "stdout",
     "output_type": "stream",
     "text": [
      "[1.12345679 2.12345679 3.12345679]\n",
      "data type of 'arr':  float64\n",
      "[1.1234568 2.1234567 3.1234567]\n",
      "data type of 'arr_float32':  float32\n"
     ]
    }
   ],
   "source": [
    "arr = np.array([1.123456789, 2.123456789, 3.123456789])\n",
    "print(arr)\n",
    "print(\"data type of 'arr': \",arr.dtype)\n",
    "\n",
    "arr_float32 = arr.astype(np.float32)\n",
    "print(arr_float32)\n",
    "print(\"data type of 'arr_float32': \", arr_float32.dtype)"
   ]
  },
  {
   "cell_type": "markdown",
   "id": "30f34e41-9a39-4ac3-af58-8365bf874841",
   "metadata": {},
   "source": [
    "# 6. Write a function array_attributes that takes a NumPy array as input and returns its shape, size, and data type."
   ]
  },
  {
   "cell_type": "code",
   "execution_count": 7,
   "id": "8b4dfd25-4f25-45d4-8a98-e8b4adce3ede",
   "metadata": {},
   "outputs": [
    {
     "name": "stdout",
     "output_type": "stream",
     "text": [
      "Shape: (2, 3)\n",
      "Size: 6\n",
      "Data Type: int64\n"
     ]
    }
   ],
   "source": [
    "def array_attributes(arr):\n",
    "    shape = arr.shape\n",
    "    size = arr.size\n",
    "    dtype = arr.dtype\n",
    "\n",
    "    return shape, size, dtype\n",
    "\n",
    "\n",
    "arr = np.array([[1, 2, 3], [4, 5, 6]])\n",
    "\n",
    "shape, size, dtype = array_attributes(arr)\n",
    "print(\"Shape:\", shape)\n",
    "print(\"Size:\", size)\n",
    "print(\"Data Type:\", dtype)"
   ]
  },
  {
   "cell_type": "markdown",
   "id": "b9ec4db6-77f7-46aa-bd28-6da4838a4fdd",
   "metadata": {},
   "source": [
    "# 7. Create a function array_dimension that takes a NumPy array as input and returns its dimensionality."
   ]
  },
  {
   "cell_type": "code",
   "execution_count": 8,
   "id": "85a11a46-acdd-424e-aff6-2b1354c4710d",
   "metadata": {},
   "outputs": [
    {
     "name": "stdout",
     "output_type": "stream",
     "text": [
      "Dimensionality:  2\n"
     ]
    }
   ],
   "source": [
    "def array_dimension(arr):\n",
    "    dimension = arr.ndim\n",
    "    \n",
    "    return dimension\n",
    "\n",
    "arr = np.array([[1,2,3],[4,5,6]])\n",
    "\n",
    "dimension = array_dimension(arr)\n",
    "print(\"Dimensionality: \", dimension)"
   ]
  },
  {
   "cell_type": "markdown",
   "id": "4a9235f1-c6a1-419b-bb4a-830aad104bff",
   "metadata": {},
   "source": [
    "# 8. Design a function item_size_info that takes a NumPy array as input and returns the item size and the total size in bytes."
   ]
  },
  {
   "cell_type": "code",
   "execution_count": 9,
   "id": "370420be-e6be-4360-9be4-1c42ac4ce09f",
   "metadata": {},
   "outputs": [
    {
     "name": "stdout",
     "output_type": "stream",
     "text": [
      "Item size:  8 bytes\n",
      "Total size:  48 bytes\n"
     ]
    }
   ],
   "source": [
    "def item_size_info(arr):\n",
    "    item_size = arr.itemsize\n",
    "    total_size = arr.nbytes\n",
    "    \n",
    "    return item_size, total_size\n",
    "\n",
    "arr = np.array([[1,2,3],[4,5,6]])\n",
    "item_size, total_size = item_size_info(arr)\n",
    "print(\"Item size: \", item_size, \"bytes\")\n",
    "print(\"Total size: \", total_size, \"bytes\")"
   ]
  },
  {
   "cell_type": "markdown",
   "id": "e3f13073-b4c7-456f-9989-8bcae8852ac8",
   "metadata": {},
   "source": [
    "# 9. Create a function array_strides that takes a NumPy array as input and returns the strides of the array."
   ]
  },
  {
   "cell_type": "code",
   "execution_count": 10,
   "id": "a8c6f393-06bf-42ed-bc64-4607e2322a77",
   "metadata": {},
   "outputs": [
    {
     "name": "stdout",
     "output_type": "stream",
     "text": [
      "Strides:  (24, 8)\n"
     ]
    }
   ],
   "source": [
    "def array_strides(arr):\n",
    "    strides = arr.strides\n",
    "    \n",
    "    return strides\n",
    "\n",
    "arr = np.array([[1,2,3],[4,5,6]])\n",
    "\n",
    "strides = array_strides(arr)\n",
    "print(\"Strides: \", strides)"
   ]
  },
  {
   "cell_type": "markdown",
   "id": "f62ce68e-4649-437d-a412-85bf452909fa",
   "metadata": {},
   "source": [
    "# 10. Design a function shape_stride_relationship that takes a NumPy array as input and returns the shape and strides of the array."
   ]
  },
  {
   "cell_type": "code",
   "execution_count": 11,
   "id": "a79e673c-4a8f-4f9e-8e7c-cbbaa7541ee6",
   "metadata": {},
   "outputs": [
    {
     "name": "stdout",
     "output_type": "stream",
     "text": [
      "Shape:  (2, 3)\n",
      "Strides:  (24, 8)\n"
     ]
    }
   ],
   "source": [
    "def shape_stride_relationship(arr):\n",
    "    shape = arr.shape\n",
    "    strides = arr.strides\n",
    "    \n",
    "    return shape, strides\n",
    "\n",
    "arr = np.array([[1,2,3],[4,5,6]])\n",
    "\n",
    "shape, strides = shape_stride_relationship(arr)\n",
    "print(\"Shape: \", shape)\n",
    "print(\"Strides: \", strides)"
   ]
  },
  {
   "cell_type": "markdown",
   "id": "112e1a4f-b493-49b9-a6db-13215848916a",
   "metadata": {},
   "source": [
    "# 11. Create a function `create_zeros_array` that takes an integer `n` as input and returns a NumPy array of zeros with `n` elements."
   ]
  },
  {
   "cell_type": "code",
   "execution_count": 12,
   "id": "8fa76f95-c21a-4146-80be-6518883a33c5",
   "metadata": {},
   "outputs": [
    {
     "name": "stdout",
     "output_type": "stream",
     "text": [
      "Array of zeros with  5 elements: \n"
     ]
    },
    {
     "data": {
      "text/plain": [
       "array([0., 0., 0., 0., 0.])"
      ]
     },
     "execution_count": 12,
     "metadata": {},
     "output_type": "execute_result"
    }
   ],
   "source": [
    "def create_zeros_array(n):\n",
    "    arr = np.zeros(n)\n",
    "    \n",
    "    return arr\n",
    "\n",
    "n = 5\n",
    "\n",
    "arr = create_zeros_array(n)\n",
    "print(\"Array of zeros with \", n, \"elements: \")\n",
    "arr"
   ]
  },
  {
   "cell_type": "markdown",
   "id": "254ec197-e36d-4f53-9fb3-cec881b8d894",
   "metadata": {},
   "source": [
    "# 12. Write a function `create_ones_matrix` that takes integers `rows` and `cols` as inputs and generates a 2D NumPy array filled with ones of size `rows x cols`."
   ]
  },
  {
   "cell_type": "code",
   "execution_count": 13,
   "id": "2c7c155a-8d83-4f38-84a0-36b4bc3c412e",
   "metadata": {},
   "outputs": [
    {
     "name": "stdout",
     "output_type": "stream",
     "text": [
      "Matrix of ones with 3 rows and 4 columns:\n",
      "[[1. 1. 1. 1.]\n",
      " [1. 1. 1. 1.]\n",
      " [1. 1. 1. 1.]]\n"
     ]
    }
   ],
   "source": [
    "def create_ones_matrix(rows, cols):\n",
    "    \n",
    "    return np.ones((rows, cols))\n",
    "\n",
    "\n",
    "rows = 3\n",
    "cols = 4\n",
    "\n",
    "matrix = create_ones_matrix(rows, cols)\n",
    "print(\"Matrix of ones with\", rows, \"rows and\", cols, \"columns:\")\n",
    "print(matrix)"
   ]
  },
  {
   "cell_type": "markdown",
   "id": "dd74f3b3-6c09-48b4-b602-cdf13beb815d",
   "metadata": {},
   "source": [
    "# 13. Write a function `generate_range_array` that takes three integers start, stop, and step as arguments and creates a NumPy array with a range starting from `start`, ending at stop (exclusive), and with the specified `step`."
   ]
  },
  {
   "cell_type": "code",
   "execution_count": 14,
   "id": "eaec7519-b063-43aa-90ed-4c1fade4527c",
   "metadata": {},
   "outputs": [
    {
     "name": "stdout",
     "output_type": "stream",
     "text": [
      "Array with range from 1 to 20 with step 2 :\n",
      "[ 1  3  5  7  9 11 13 15 17 19]\n"
     ]
    }
   ],
   "source": [
    "def generate_range_array(start, stop, step):\n",
    "    \n",
    "    return np.arange(start, stop, step)\n",
    "\n",
    "start = 1\n",
    "stop = 20\n",
    "step = 2\n",
    "\n",
    "arr = generate_range_array(start, stop, step)\n",
    "print(\"Array with range from\", start, \"to\", stop, \"with step\", step, \":\")\n",
    "print(arr)"
   ]
  },
  {
   "cell_type": "markdown",
   "id": "bacc6fe3-246d-4303-a168-dac77c5a4c29",
   "metadata": {},
   "source": [
    "# 14. Design a function `generate_linear_space` that takes two floats `start`, `stop`, and an integer `num` as arguments and generates a NumPy array with num equally spaced values between `start` and `stop` (inclusive)."
   ]
  },
  {
   "cell_type": "code",
   "execution_count": 15,
   "id": "acb3145d-657f-4782-ab08-53027f754b54",
   "metadata": {},
   "outputs": [
    {
     "name": "stdout",
     "output_type": "stream",
     "text": [
      "Array with 5 equally spaced values between 0.1 and 0.99 :\n",
      "[0.1    0.3225 0.545  0.7675 0.99  ]\n"
     ]
    }
   ],
   "source": [
    "def generate_linear_space(start, stop, num):\n",
    "    \n",
    "    return np.linspace(start, stop, num)\n",
    "\n",
    "start = 0.1\n",
    "stop = 0.99\n",
    "num = 5\n",
    "\n",
    "arr = generate_linear_space(start, stop, num)\n",
    "print(\"Array with\", num, \"equally spaced values between\", start, \"and\", stop, \":\")\n",
    "print(arr)"
   ]
  },
  {
   "cell_type": "markdown",
   "id": "404dbe90-9090-404b-b8f6-b6ecd7cc0273",
   "metadata": {},
   "source": [
    "# 15. Create a function `create_identity_matrix` that takes an integer `n` as input and generates a square identity matrix of size `n x n` using `numpy.eye`."
   ]
  },
  {
   "cell_type": "code",
   "execution_count": 16,
   "id": "cb72d5af-02e3-4bb3-945c-ae0cf8e948e7",
   "metadata": {},
   "outputs": [
    {
     "name": "stdout",
     "output_type": "stream",
     "text": [
      "Identity matrix of size 3 x 3 :\n",
      "[[1. 0. 0.]\n",
      " [0. 1. 0.]\n",
      " [0. 0. 1.]]\n"
     ]
    }
   ],
   "source": [
    "def create_identity_matrix(n):\n",
    "    return np.eye(n)\n",
    "\n",
    "n = 3\n",
    "\n",
    "matrix = create_identity_matrix(n)\n",
    "print(\"Identity matrix of size\", n, \"x\", n, \":\")\n",
    "print(matrix)"
   ]
  },
  {
   "cell_type": "markdown",
   "id": "ae68db28-8ab1-42c3-bef4-248f7106feb6",
   "metadata": {},
   "source": [
    "# 16. Write a function that takes a Python list and converts it into a NumPy array."
   ]
  },
  {
   "cell_type": "code",
   "execution_count": 17,
   "id": "f5f096fd-afe2-42d4-99c5-5cd6bab06a6d",
   "metadata": {},
   "outputs": [
    {
     "name": "stdout",
     "output_type": "stream",
     "text": [
      "NumPy array from python list:\n"
     ]
    },
    {
     "data": {
      "text/plain": [
       "array([1, 2, 3, 4, 5])"
      ]
     },
     "execution_count": 17,
     "metadata": {},
     "output_type": "execute_result"
    }
   ],
   "source": [
    "def list_to_numpy_array(lst):\n",
    "    \n",
    "    return np.array(lst)\n",
    "\n",
    "lst = [1,2,3,4,5]\n",
    "\n",
    "arr = list_to_numpy_array(lst)\n",
    "print(\"NumPy array from python list:\")\n",
    "arr"
   ]
  },
  {
   "cell_type": "markdown",
   "id": "a3d14f73-64dd-4c54-aeab-a69a9af4aa9c",
   "metadata": {},
   "source": [
    "# 17. Create a NumPy array and demonstrate the use of `numpy.view` to create a new array object with the same data"
   ]
  },
  {
   "cell_type": "code",
   "execution_count": 18,
   "id": "8027a228-6ae2-41d2-a38c-b13275ca38ea",
   "metadata": {},
   "outputs": [
    {
     "name": "stdout",
     "output_type": "stream",
     "text": [
      "Original array: [1 2 3 4 5]\n",
      "View array: [1 2 3 4 5]\n",
      "Modified original array: [10  2  3  4  5]\n",
      "View array after modifying original array: [10  2  3  4  5]\n"
     ]
    }
   ],
   "source": [
    "# Create a NumPy array\n",
    "original_array = np.array([1, 2, 3, 4, 5])\n",
    "print(\"Original array:\", original_array)\n",
    "\n",
    "# Create a new array object with the same data using numpy.view\n",
    "view_array = original_array.view()\n",
    "print(\"View array:\", view_array)\n",
    "\n",
    "# Modify the original array\n",
    "original_array[0] = 10\n",
    "print(\"Modified original array:\", original_array)\n",
    "\n",
    "# The view array is also modified because it shares the same data\n",
    "print(\"View array after modifying original array:\", view_array)"
   ]
  },
  {
   "cell_type": "markdown",
   "id": "3338e202-9078-4b25-bcbf-453033d3d82c",
   "metadata": {},
   "source": [
    "# 18. Write a function that takes two NumPy arrays and concatenates them along a specified axis."
   ]
  },
  {
   "cell_type": "code",
   "execution_count": 19,
   "id": "1b79d11e-75b0-4353-8266-c58c5e9312e0",
   "metadata": {},
   "outputs": [
    {
     "name": "stdout",
     "output_type": "stream",
     "text": [
      "Concatenated array along axis 0:\n",
      "[[1 2]\n",
      " [3 4]\n",
      " [5 6]\n",
      " [7 8]]\n",
      "\n",
      "Concatenated array along axis 1:\n",
      "[[1 2 5 6]\n",
      " [3 4 7 8]]\n"
     ]
    }
   ],
   "source": [
    "def concatenate_arrays(arr1, arr2, axis = 0):\n",
    "    \n",
    "    return np.concatenate((arr1, arr2), axis = axis)\n",
    "\n",
    "arr1 = np.array([[1,2,],[3,4]])\n",
    "arr2 = np.array([[5,6],[7,8]])\n",
    "\n",
    "print(\"Concatenated array along axis 0:\")\n",
    "print(concatenate_arrays(arr1, arr2, axis = 0))\n",
    "\n",
    "print(\"\\nConcatenated array along axis 1:\")\n",
    "print(concatenate_arrays(arr1, arr2, axis = 1))"
   ]
  },
  {
   "cell_type": "markdown",
   "id": "bce6dcf6-1ea0-432d-9cb7-0515ca07daf4",
   "metadata": {},
   "source": [
    "# 19. Create two NumPy arrays with different shapes and concatenate them horizontally using `numpy.concatenate`."
   ]
  },
  {
   "cell_type": "code",
   "execution_count": 20,
   "id": "99fce095-4c06-4229-821f-7fd72de93eac",
   "metadata": {},
   "outputs": [
    {
     "name": "stdout",
     "output_type": "stream",
     "text": [
      "Array 1 shape: (2, 3)\n",
      "Array 2 shape: (2, 2)\n",
      "[[1 2 3 4 5]\n",
      " [4 5 6 6 7]]\n"
     ]
    }
   ],
   "source": [
    "arr1 = np.array([[1,2,3],[4,5,6]])\n",
    "arr2 = np.array([[4,5],[6,7]])\n",
    "\n",
    "print(\"Array 1 shape:\", arr1.shape)\n",
    "print(\"Array 2 shape:\", arr2.shape)\n",
    "\n",
    "array = np.concatenate((arr1, arr2), axis = 1)\n",
    "print(array)"
   ]
  },
  {
   "cell_type": "markdown",
   "id": "563783a7-86a1-4bec-9fdd-995757ee7fe5",
   "metadata": {},
   "source": [
    "# 20. Write a function that vertically stacks multiple NumPy arrays given as a list."
   ]
  },
  {
   "cell_type": "code",
   "execution_count": 21,
   "id": "3c8a9e7d-bfc7-4552-9ba7-03ae577a12b7",
   "metadata": {},
   "outputs": [
    {
     "name": "stdout",
     "output_type": "stream",
     "text": [
      "[[ 1  2  3]\n",
      " [ 4  5  6]\n",
      " [ 7  8  9]\n",
      " [10 11 12]]\n"
     ]
    }
   ],
   "source": [
    "def vstack_arrays(arr):\n",
    "    \n",
    "    return np.vstack(arr)\n",
    "\n",
    "array1 = np.array([[1, 2, 3], [4, 5, 6]])\n",
    "array2 = np.array([[7, 8, 9], [10, 11, 12]])\n",
    "\n",
    "arrays = [array1, array2]\n",
    "stacked_array = vstack_arrays(arrays)\n",
    "\n",
    "print(stacked_array)"
   ]
  },
  {
   "cell_type": "markdown",
   "id": "a93df47e-809b-4622-a6b7-8691e3218d6c",
   "metadata": {},
   "source": [
    "# 21. Write a Python function using NumPy to create an array of integers within a specified range (inclusive) with a given step size."
   ]
  },
  {
   "cell_type": "code",
   "execution_count": 22,
   "id": "09059875-d01e-4abc-85bd-b6a5afb76a78",
   "metadata": {},
   "outputs": [
    {
     "name": "stdout",
     "output_type": "stream",
     "text": [
      "[0 2 4 6 8]\n"
     ]
    }
   ],
   "source": [
    "def create_range_array(start, stop, step):\n",
    "    \n",
    "    return np.arange(start, stop + 1, step)\n",
    "\n",
    "array = create_range_array(0, 9, 2)\n",
    "print(array)"
   ]
  },
  {
   "cell_type": "markdown",
   "id": "62b9a80d-dd69-43ee-a3c8-6cffc64fe376",
   "metadata": {},
   "source": [
    "# 22. Write a Python function using NumPy to generate an array of 10 equally spaced values between 0 and 1 (inclusive)."
   ]
  },
  {
   "cell_type": "code",
   "execution_count": 23,
   "id": "82f5d5a1-8de3-420c-bf81-811b63713515",
   "metadata": {},
   "outputs": [
    {
     "name": "stdout",
     "output_type": "stream",
     "text": [
      "[0.         0.11111111 0.22222222 0.33333333 0.44444444 0.55555556\n",
      " 0.66666667 0.77777778 0.88888889 1.        ]\n"
     ]
    }
   ],
   "source": [
    "import numpy as np\n",
    "\n",
    "def generate_evenly_spaced_array(start, stop, num_elements):\n",
    "    \n",
    "    return np.linspace(start, stop, num_elements)\n",
    "\n",
    "array = generate_evenly_spaced_array(0, 1, 10)\n",
    "print(array)"
   ]
  },
  {
   "cell_type": "markdown",
   "id": "751a480e-c5b0-4132-a721-c270393e2b94",
   "metadata": {},
   "source": [
    "# 23. Write a Python function using NumPy to create an array of 5 logarithmically spaced values between 1 and 1000 (inclusive)."
   ]
  },
  {
   "cell_type": "code",
   "execution_count": 24,
   "id": "c6e4d848-b556-4d4e-9ce7-e335bbec82c8",
   "metadata": {},
   "outputs": [
    {
     "name": "stdout",
     "output_type": "stream",
     "text": [
      "[   1.            5.62341325   31.6227766   177.827941   1000.        ]\n"
     ]
    }
   ],
   "source": [
    "import numpy as np\n",
    "\n",
    "def generate_log_space(start=1, stop=1000, num=5):\n",
    "    \n",
    "    return np.logspace(np.log10(start), np.log10(stop), num)\n",
    "\n",
    "values = generate_log_space()\n",
    "print(values)"
   ]
  },
  {
   "cell_type": "markdown",
   "id": "85eda27d-5522-4a9c-aeb7-bc4f181336eb",
   "metadata": {},
   "source": [
    "# 24. Create a Pandas DataFrame using a NumPy array that contains 5 rows and 3 columns, where the values are random integers between 1 and 100."
   ]
  },
  {
   "cell_type": "code",
   "execution_count": 25,
   "id": "466a9f03-b777-4106-a236-4c7326b56e8f",
   "metadata": {},
   "outputs": [
    {
     "data": {
      "text/html": [
       "<div>\n",
       "<style scoped>\n",
       "    .dataframe tbody tr th:only-of-type {\n",
       "        vertical-align: middle;\n",
       "    }\n",
       "\n",
       "    .dataframe tbody tr th {\n",
       "        vertical-align: top;\n",
       "    }\n",
       "\n",
       "    .dataframe thead th {\n",
       "        text-align: right;\n",
       "    }\n",
       "</style>\n",
       "<table border=\"1\" class=\"dataframe\">\n",
       "  <thead>\n",
       "    <tr style=\"text-align: right;\">\n",
       "      <th></th>\n",
       "      <th>Column1</th>\n",
       "      <th>Column2</th>\n",
       "      <th>Column3</th>\n",
       "    </tr>\n",
       "  </thead>\n",
       "  <tbody>\n",
       "    <tr>\n",
       "      <th>0</th>\n",
       "      <td>61</td>\n",
       "      <td>80</td>\n",
       "      <td>98</td>\n",
       "    </tr>\n",
       "    <tr>\n",
       "      <th>1</th>\n",
       "      <td>99</td>\n",
       "      <td>48</td>\n",
       "      <td>13</td>\n",
       "    </tr>\n",
       "    <tr>\n",
       "      <th>2</th>\n",
       "      <td>25</td>\n",
       "      <td>25</td>\n",
       "      <td>42</td>\n",
       "    </tr>\n",
       "    <tr>\n",
       "      <th>3</th>\n",
       "      <td>81</td>\n",
       "      <td>32</td>\n",
       "      <td>50</td>\n",
       "    </tr>\n",
       "    <tr>\n",
       "      <th>4</th>\n",
       "      <td>36</td>\n",
       "      <td>84</td>\n",
       "      <td>15</td>\n",
       "    </tr>\n",
       "  </tbody>\n",
       "</table>\n",
       "</div>"
      ],
      "text/plain": [
       "   Column1  Column2  Column3\n",
       "0       61       80       98\n",
       "1       99       48       13\n",
       "2       25       25       42\n",
       "3       81       32       50\n",
       "4       36       84       15"
      ]
     },
     "execution_count": 25,
     "metadata": {},
     "output_type": "execute_result"
    }
   ],
   "source": [
    "data = np.random.randint(1, 101, (5, 3))\n",
    "\n",
    "df = pd.DataFrame(data, columns=['Column1', 'Column2', 'Column3'])\n",
    "\n",
    "df"
   ]
  },
  {
   "cell_type": "markdown",
   "id": "1f51eb8c-4ef8-4422-8d29-83afae23f334",
   "metadata": {},
   "source": [
    "# 25. Write a function that takes a Pandas DataFrame and replaces all negative values in a specific column with zeros. Use NumPy operations within the Pandas DataFrame."
   ]
  },
  {
   "cell_type": "code",
   "execution_count": 26,
   "id": "c42a49ef-ca51-499f-8c00-a3beb01f3920",
   "metadata": {},
   "outputs": [
    {
     "name": "stdout",
     "output_type": "stream",
     "text": [
      "Original DataFrame:\n",
      "   A   B\n",
      "0 -1   6\n",
      "1  2   7\n",
      "2 -3   8\n",
      "3  4   9\n",
      "4  5  10\n",
      "\n",
      "DataFrame after replacing negative values with zeros:\n",
      "   A   B\n",
      "0  0   6\n",
      "1  2   7\n",
      "2  0   8\n",
      "3  4   9\n",
      "4  5  10\n"
     ]
    }
   ],
   "source": [
    "import pandas as pd\n",
    "import numpy as np\n",
    "\n",
    "def replace_negative_with_zero(df, column_name):\n",
    "    df[column_name] = np.where(df[column_name] < 0, 0, df[column_name])\n",
    "    return df\n",
    "\n",
    "\n",
    "df = pd.DataFrame({\n",
    "    'A': [-1, 2, -3, 4, 5],\n",
    "    'B': [6, 7, 8, 9, 10]\n",
    "})\n",
    "\n",
    "print(\"Original DataFrame:\")\n",
    "print(df)\n",
    "\n",
    "df = replace_negative_with_zero(df, 'A')\n",
    "\n",
    "print(\"\\nDataFrame after replacing negative values with zeros:\")\n",
    "print(df)"
   ]
  },
  {
   "cell_type": "markdown",
   "id": "87b32018-6b26-4af1-898e-ebcc49380e4f",
   "metadata": {},
   "source": [
    "# 26. Access the 3rd element from the given NumPy array.\n",
    "arr = np.array([10, 20, 30, 40, 50])"
   ]
  },
  {
   "cell_type": "code",
   "execution_count": 27,
   "id": "80b518dd-30f1-44d0-9837-40bed2481186",
   "metadata": {},
   "outputs": [
    {
     "name": "stdout",
     "output_type": "stream",
     "text": [
      "The 3rd element is: 30\n"
     ]
    }
   ],
   "source": [
    "arr = np.array([10, 20, 30, 40, 50])\n",
    "\n",
    "third_element = arr[2]\n",
    "\n",
    "print(\"The 3rd element is:\", third_element)"
   ]
  },
  {
   "cell_type": "markdown",
   "id": "807bfe07-d4d5-4c06-b17d-83eb5379f839",
   "metadata": {},
   "source": [
    "# 27. Retrieve the element at index (1, 2) from the 2D NumPy array.\n",
    "arr_2d = np.array([[1, 2, 3], ",
    "\n",
    "                   [4, 5, 6], ",
    "\n",
    "                   [7, 8, 9]])"
   ]
  },
  {
   "cell_type": "code",
   "execution_count": 28,
   "id": "2f0e871d-d686-459e-b80e-11c705d8e3f4",
   "metadata": {},
   "outputs": [
    {
     "name": "stdout",
     "output_type": "stream",
     "text": [
      "The element at index (1, 2) is: 6\n"
     ]
    }
   ],
   "source": [
    "arr_2d = np.array([[1, 2, 3], [4, 5, 6], [7, 8, 9]])\n",
    "\n",
    "element = arr_2d[1, 2]\n",
    "\n",
    "print(\"The element at index (1, 2) is:\", element)"
   ]
  },
  {
   "cell_type": "markdown",
   "id": "a82ad75e-e112-4843-8ea4-79f01c673d78",
   "metadata": {},
   "source": [
    "# 28. Using boolean indexing, extract elements greater than 5 from the given NumPy array.\n",
    "arr = np.array([3, 8, 2, 10, 5, 7])"
   ]
  },
  {
   "cell_type": "code",
   "execution_count": 29,
   "id": "c05852ab-0e41-4e48-b0db-97cf52815d1c",
   "metadata": {},
   "outputs": [
    {
     "name": "stdout",
     "output_type": "stream",
     "text": [
      "Elements greater than 5: [ 8 10  7]\n"
     ]
    }
   ],
   "source": [
    "arr = np.array([3, 8, 2, 10, 5, 7])\n",
    "\n",
    "greater_than_5 = arr[arr > 5]\n",
    "\n",
    "print(\"Elements greater than 5:\", greater_than_5)"
   ]
  },
  {
   "cell_type": "markdown",
   "id": "8b74af72-cb36-457f-a775-8c97e03f006a",
   "metadata": {},
   "source": [
    "# 29. Perform basic slicing to extract elements from index 2 to 5 (inclusive) from the given NumPy array.\n",
    "arr = np.array([1, 2, 3, 4, 5, 6, 7, 8, 9])"
   ]
  },
  {
   "cell_type": "code",
   "execution_count": 30,
   "id": "4efd38e7-e48d-48fe-ae98-10aa1b1ac26a",
   "metadata": {},
   "outputs": [
    {
     "name": "stdout",
     "output_type": "stream",
     "text": [
      "Elements from index 2 to 5 (inclusive): [3 4 5 6]\n"
     ]
    }
   ],
   "source": [
    "arr = np.array([1, 2, 3, 4, 5, 6, 7, 8, 9])\n",
    "\n",
    "sliced_arr = arr[2:6]\n",
    "\n",
    "print(\"Elements from index 2 to 5 (inclusive):\", sliced_arr)"
   ]
  },
  {
   "cell_type": "markdown",
   "id": "760874d7-ff75-44fc-afd5-58369070a54a",
   "metadata": {},
   "source": [
    "# 30. Slice the 2D NumPy array to extract the sub-array `[[2, 3], [5, 6]]` from the given array\n",
    "arr_2d = np.array([[1, 2, 3], ",
    "\n",
    "                   [4, 5, 6], ",
    "\n",
    "                   [7, 8, 9]])"
   ]
  },
  {
   "cell_type": "code",
   "execution_count": 31,
   "id": "11035a6a-1fcc-45c7-b3a4-cc72fb0976a7",
   "metadata": {},
   "outputs": [
    {
     "name": "stdout",
     "output_type": "stream",
     "text": [
      "Sub-array [[2, 3], [5, 6]]: [[2 3]\n",
      " [5 6]]\n"
     ]
    }
   ],
   "source": [
    "arr_2d = np.array([[1, 2, 3], [4, 5, 6], [7, 8, 9]])\n",
    "\n",
    "sliced_arr = arr_2d[0:2, 1:3]\n",
    "\n",
    "print(\"Sub-array [[2, 3], [5, 6]]:\", sliced_arr)"
   ]
  },
  {
   "cell_type": "markdown",
   "id": "22d77313-a8cf-47e9-9974-87105d4fef12",
   "metadata": {},
   "source": [
    "# 31.Write a NumPy function to extract elements in specific order from a given 2D array based on indices provided in another array."
   ]
  },
  {
   "cell_type": "code",
   "execution_count": 32,
   "id": "32418f31-5224-451d-8f19-f3e9dead8740",
   "metadata": {},
   "outputs": [
    {
     "name": "stdout",
     "output_type": "stream",
     "text": [
      "Extracted elements: [2 6 7]\n"
     ]
    }
   ],
   "source": [
    "def extract_elements(arr, indices):\n",
    "    return arr[tuple(indices.T)]\n",
    "\n",
    "# Example usage:\n",
    "arr = np.array([[1, 2, 3], [4, 5, 6], [7, 8, 9]])\n",
    "indices = np.array([[0, 1], [1, 2], [2, 0]])\n",
    "\n",
    "extracted_elements = extract_elements(arr, indices)\n",
    "print(\"Extracted elements:\", extracted_elements)"
   ]
  },
  {
   "cell_type": "markdown",
   "id": "a8318697-b93b-4192-8417-1e6d4053d2aa",
   "metadata": {},
   "source": [
    "# 32. Create a NumPy function that filters elements greater than a threshold from a given 1D array using boolean indexing."
   ]
  },
  {
   "cell_type": "code",
   "execution_count": 33,
   "id": "48c3f3d0-eb57-4ba7-85ec-367db2ffd3a7",
   "metadata": {},
   "outputs": [
    {
     "name": "stdout",
     "output_type": "stream",
     "text": [
      "Filtered elements: [6 7 8 9]\n"
     ]
    }
   ],
   "source": [
    "def filter_elements(arr, threshold):\n",
    "    return arr[arr > threshold]\n",
    "\n",
    "# Example usage:\n",
    "arr = np.array([1, 2, 3, 4, 5, 6, 7, 8, 9])\n",
    "threshold = 5\n",
    "\n",
    "filtered_elements = filter_elements(arr, threshold)\n",
    "print(\"Filtered elements:\", filtered_elements)"
   ]
  },
  {
   "cell_type": "markdown",
   "id": "6fdf538f-5629-4471-a9eb-20fa66229c4b",
   "metadata": {},
   "source": [
    "# 33. Develop a NumPy function that extracts specific elements from a 3D array using indices provided in three separate arrays for each dimension."
   ]
  },
  {
   "cell_type": "code",
   "execution_count": 34,
   "id": "0115cafd-9094-43d7-8846-4e09b57acb04",
   "metadata": {},
   "outputs": [
    {
     "name": "stdout",
     "output_type": "stream",
     "text": [
      "Extracted elements: [0.46001935 0.7718399  0.19082225 0.37402364 0.30311151]\n"
     ]
    }
   ],
   "source": [
    "def extract_elements(arr, row_indices, col_indices, depth_indices):\n",
    "    return arr[row_indices, col_indices, depth_indices]\n",
    "\n",
    "# Example usage:\n",
    "arr = np.random.rand(3, 4, 5)  # Create a 3D array\n",
    "row_indices = np.array([0, 1, 2, 0, 1])\n",
    "col_indices = np.array([1, 2, 3, 0, 1])\n",
    "depth_indices = np.array([0, 1, 2, 3, 4])\n",
    "\n",
    "extracted_elements = extract_elements(arr, row_indices, col_indices, depth_indices)\n",
    "print(\"Extracted elements:\", extracted_elements)"
   ]
  },
  {
   "cell_type": "markdown",
   "id": "26b39b5e-737c-488d-bd01-81db6b49977c",
   "metadata": {},
   "source": [
    "# 34. Write a NumPy function that returns elements from an array where both two conditions are satisfied using boolean indexing."
   ]
  },
  {
   "cell_type": "code",
   "execution_count": 35,
   "id": "b16d361c-b58c-410a-b47f-91297d01995e",
   "metadata": {},
   "outputs": [
    {
     "name": "stdout",
     "output_type": "stream",
     "text": [
      "Filtered elements: [6 8]\n"
     ]
    }
   ],
   "source": [
    "def filter_elements(arr, cond1, cond2):\n",
    "    mask = (cond1(arr)) & (cond2(arr))\n",
    "    return arr[mask]\n",
    "\n",
    "# Example usage:\n",
    "arr = np.array([1, 2, 3, 4, 5, 6, 7, 8, 9])\n",
    "\n",
    "def cond1(x):\n",
    "    return x % 2 == 0  # Condition 1: even numbers\n",
    "\n",
    "def cond2(x):\n",
    "    return x > 4  # Condition 2: greater than 4\n",
    "\n",
    "filtered_elements = filter_elements(arr, cond1, cond2)\n",
    "print(\"Filtered elements:\", filtered_elements)"
   ]
  },
  {
   "cell_type": "markdown",
   "id": "8b2b3409-d55e-4bff-bad2-315bf5edb428",
   "metadata": {},
   "source": [
    "# 35. Create a NumPy function that extracts elements from a 2D array using row and column indices provided in separate arrays."
   ]
  },
  {
   "cell_type": "code",
   "execution_count": 36,
   "id": "15dc1948-8bca-4a08-9dbf-ee2d9d6ebaa7",
   "metadata": {},
   "outputs": [
    {
     "name": "stdout",
     "output_type": "stream",
     "text": [
      "Extracted elements: [2 6 7 1 5]\n"
     ]
    }
   ],
   "source": [
    "def extract_elements(arr, row_indices, col_indices):\n",
    "    return arr[row_indices, col_indices]\n",
    "\n",
    "# Example usage:\n",
    "arr = np.array([[1, 2, 3], [4, 5, 6], [7, 8, 9]])\n",
    "row_indices = np.array([0, 1, 2, 0, 1])\n",
    "col_indices = np.array([1, 2, 0, 0, 1])\n",
    "\n",
    "extracted_elements = extract_elements(arr, row_indices, col_indices)\n",
    "print(\"Extracted elements:\", extracted_elements)"
   ]
  },
  {
   "cell_type": "markdown",
   "id": "39dc3047-05be-4e32-905e-4b6a5782b360",
   "metadata": {},
   "source": [
    "# 36. Given an array arr of shape (3, 3), add a scalar value of 5 to each element using NumPy broadcasting."
   ]
  },
  {
   "cell_type": "code",
   "execution_count": 37,
   "id": "c285ad6f-b445-469b-89ff-14a61ce462eb",
   "metadata": {},
   "outputs": [
    {
     "name": "stdout",
     "output_type": "stream",
     "text": [
      "Original array:\n",
      "[[1 2 3]\n",
      " [4 5 6]\n",
      " [7 8 9]]\n",
      "Result array:\n",
      "[[ 6  7  8]\n",
      " [ 9 10 11]\n",
      " [12 13 14]]\n"
     ]
    }
   ],
   "source": [
    "arr = np.array([[1, 2, 3], [4, 5, 6], [7, 8, 9]])\n",
    "\n",
    "# Add a scalar value of 5 to each element using broadcasting\n",
    "result = arr + 5\n",
    "\n",
    "print(\"Original array:\")\n",
    "print(arr)\n",
    "print(\"Result array:\")\n",
    "print(result)"
   ]
  },
  {
   "cell_type": "markdown",
   "id": "fd1c02e1-da5d-4c01-8b6f-48d82e57cb6c",
   "metadata": {},
   "source": [
    "# 37. Consider two arrays arr1 of shape (1, 3) and arr2 of shape (3, 4). Multiply each row of arr2 by the corresponding element in arr1 using NumPy broadcasting."
   ]
  },
  {
   "cell_type": "code",
   "execution_count": 38,
   "id": "5a0b58b1-8b35-4a66-9ba8-1bb0f436440b",
   "metadata": {},
   "outputs": [
    {
     "name": "stdout",
     "output_type": "stream",
     "text": [
      "Array 1:\n",
      "[[1]\n",
      " [2]\n",
      " [3]]\n",
      "Array 2:\n",
      "[[ 1  2  3  4]\n",
      " [ 5  6  7  8]\n",
      " [ 9 10 11 12]]\n",
      "Result array:\n",
      "[[ 1  2  3  4]\n",
      " [10 12 14 16]\n",
      " [27 30 33 36]]\n"
     ]
    }
   ],
   "source": [
    "arr1 = np.array([[1], [2], [3]])\n",
    "\n",
    "arr2 = np.array([[1, 2, 3, 4], [5, 6, 7, 8], [9, 10, 11, 12]])\n",
    "\n",
    "# Multiply each row of arr2 by the corresponding element in arr1 using broadcasting\n",
    "result = arr1 * arr2\n",
    "\n",
    "print(\"Array 1:\")\n",
    "print(arr1)\n",
    "print(\"Array 2:\")\n",
    "print(arr2)\n",
    "print(\"Result array:\")\n",
    "print(result)"
   ]
  },
  {
   "cell_type": "markdown",
   "id": "b58a3308-2996-426f-8845-3348bdfc3733",
   "metadata": {},
   "source": [
    "# 38. Given a 1D array arr1 of shape (1, 4) and a 2D array arr2 of shape (4, 3), add arr1 to each row of arr2 using NumPy broadcasting."
   ]
  },
  {
   "cell_type": "code",
   "execution_count": 39,
   "id": "8f5d12da-4bb8-4090-b314-6e72d731781b",
   "metadata": {},
   "outputs": [
    {
     "name": "stdout",
     "output_type": "stream",
     "text": [
      "Array 1:\n",
      "[[1]\n",
      " [2]\n",
      " [3]\n",
      " [4]]\n",
      "Array 2:\n",
      "[[10 10 10]\n",
      " [20 20 20]\n",
      " [30 30 30]\n",
      " [40 40 40]]\n",
      "Result array:\n",
      "[[11 11 11]\n",
      " [22 22 22]\n",
      " [33 33 33]\n",
      " [44 44 44]]\n"
     ]
    }
   ],
   "source": [
    "arr1 = np.array([[1], [2], [3], [4]])\n",
    "\n",
    "arr2 = np.array([[10, 10, 10], [20, 20, 20], [30, 30, 30], [40, 40, 40]])\n",
    "\n",
    "# Add arr1 to each row of arr2 using broadcasting\n",
    "result = arr2 + arr1\n",
    "\n",
    "print(\"Array 1:\")\n",
    "print(arr1)\n",
    "print(\"Array 2:\")\n",
    "print(arr2)\n",
    "print(\"Result array:\")\n",
    "print(result)"
   ]
  },
  {
   "cell_type": "markdown",
   "id": "faeb7689-fb1c-4cda-87f5-ccb2bcebbd84",
   "metadata": {},
   "source": [
    "# 39. Consider two arrays arr1 of shape (3, 1) and arr2 of shape (1, 3). Add these arrays using NumPy broadcasting."
   ]
  },
  {
   "cell_type": "code",
   "execution_count": 40,
   "id": "b65bdb12-efe5-4b0c-bf6e-1380299ae527",
   "metadata": {},
   "outputs": [
    {
     "name": "stdout",
     "output_type": "stream",
     "text": [
      "Array 1:\n",
      "[[1]\n",
      " [2]\n",
      " [3]]\n",
      "Array 2:\n",
      "[[4 5 6]]\n",
      "Result array:\n",
      "[[5 6 7]\n",
      " [6 7 8]\n",
      " [7 8 9]]\n"
     ]
    }
   ],
   "source": [
    "arr1 = np.array([[1], [2], [3]])\n",
    "\n",
    "arr2 = np.array([[4, 5, 6]])\n",
    "\n",
    "# Add arr1 and arr2 using broadcasting\n",
    "result = arr1 + arr2\n",
    "\n",
    "print(\"Array 1:\")\n",
    "print(arr1)\n",
    "print(\"Array 2:\")\n",
    "print(arr2)\n",
    "print(\"Result array:\")\n",
    "print(result)"
   ]
  },
  {
   "cell_type": "markdown",
   "id": "c5c0064e-5a3a-4fc9-906e-94fa76226272",
   "metadata": {},
   "source": [
    "# 40. Given arrays arr1 of shape (2, 3) and arr2 of shape (2, 2), perform multiplication using NumPy broadcasting. Handle the shape incompatibility."
   ]
  },
  {
   "cell_type": "code",
   "execution_count": 41,
   "id": "bfc2e616-6e48-4b6c-8540-03dbd32b74ea",
   "metadata": {},
   "outputs": [
    {
     "name": "stdout",
     "output_type": "stream",
     "text": [
      "Array 1:\n",
      "[[1 2 3]\n",
      " [4 5 6]]\n",
      "Array 2:\n",
      "[[[ 7]\n",
      "  [ 8]]\n",
      "\n",
      " [[ 9]\n",
      "  [10]]]\n",
      "Result array:\n",
      "[[[ 7 14 21]\n",
      "  [32 40 48]]\n",
      "\n",
      " [[ 9 18 27]\n",
      "  [40 50 60]]]\n"
     ]
    }
   ],
   "source": [
    "arr1 = np.array([[1, 2, 3], [4, 5, 6]])\n",
    "\n",
    "arr2 = np.array([[7, 8], [9, 10]])\n",
    "\n",
    "arr2 = arr2[:, :, np.newaxis]\n",
    "\n",
    "# Perform multiplication using broadcasting\n",
    "result = arr1 * arr2\n",
    "\n",
    "print(\"Array 1:\")\n",
    "print(arr1)\n",
    "print(\"Array 2:\")\n",
    "print(arr2)\n",
    "print(\"Result array:\")\n",
    "print(result)"
   ]
  },
  {
   "cell_type": "markdown",
   "id": "e4d1884a-dcc8-45c5-92d2-dd00580e7942",
   "metadata": {},
   "source": [
    "# 41. Calculate column wise mean for the given array:\n",
    "arr = np.array([[1, 2, 3], [4, 5, 6]])"
   ]
  },
  {
   "cell_type": "code",
   "execution_count": 42,
   "id": "f67b59e5-43fd-4c48-9cf3-2f474f1189d6",
   "metadata": {},
   "outputs": [
    {
     "name": "stdout",
     "output_type": "stream",
     "text": [
      "Original array:\n",
      "[[1 2 3]\n",
      " [4 5 6]]\n",
      "Column-wise mean:\n",
      "[2.5 3.5 4.5]\n"
     ]
    }
   ],
   "source": [
    "arr = np.array([[1, 2, 3], [4, 5, 6]])\n",
    "\n",
    "column_mean = np.mean(arr, axis=0)\n",
    "\n",
    "print(\"Original array:\")\n",
    "print(arr)\n",
    "print(\"Column-wise mean:\")\n",
    "print(column_mean)"
   ]
  },
  {
   "cell_type": "markdown",
   "id": "e2d75853-a932-4f3a-b4ab-307f2a9cc765",
   "metadata": {},
   "source": [
    "# 42. Find maximum value in each row of the given array:\n",
    "arr = np.array([[1, 2, 3], [4, 5, 6]])"
   ]
  },
  {
   "cell_type": "code",
   "execution_count": 43,
   "id": "a0a9a842-00d4-4ba3-8cda-618b94e37f07",
   "metadata": {},
   "outputs": [
    {
     "name": "stdout",
     "output_type": "stream",
     "text": [
      "Original array:\n",
      "[[1 2 3]\n",
      " [4 5 6]]\n",
      "Maximum value in each row:\n",
      "[3 6]\n"
     ]
    }
   ],
   "source": [
    "arr = np.array([[1, 2, 3], [4, 5, 6]])\n",
    "\n",
    "row_max = np.max(arr, axis=1)\n",
    "\n",
    "print(\"Original array:\")\n",
    "print(arr)\n",
    "print(\"Maximum value in each row:\")\n",
    "print(row_max)"
   ]
  },
  {
   "cell_type": "markdown",
   "id": "2c60a8c4-afbe-40b9-8c79-b13b53b38fc1",
   "metadata": {},
   "source": [
    "# 43. For the given array, find indices of maximum value in each column\n",
    "arr = np.array([[1, 2, 3], [4, 5, 6]])"
   ]
  },
  {
   "cell_type": "code",
   "execution_count": 44,
   "id": "bf9ebfc8-ba9a-4b34-9543-d4b862a8246e",
   "metadata": {},
   "outputs": [
    {
     "name": "stdout",
     "output_type": "stream",
     "text": [
      "Original array:\n",
      "[[1 2 3]\n",
      " [4 5 6]]\n",
      "Indices of maximum value in each column:\n",
      "[1 1 1]\n"
     ]
    }
   ],
   "source": [
    "arr = np.array([[1, 2, 3], [4, 5, 6]])\n",
    "\n",
    "column_max_indices = np.argmax(arr, axis=0)\n",
    "\n",
    "print(\"Original array:\")\n",
    "print(arr)\n",
    "print(\"Indices of maximum value in each column:\")\n",
    "print(column_max_indices)"
   ]
  },
  {
   "cell_type": "markdown",
   "id": "a1e2bd72-eabf-4b7c-b80f-f81339d31a89",
   "metadata": {},
   "source": [
    "# 44. For the given array, apply custom function to calculate moving sum along rows.\n",
    "arr = np.array([[1, 2, 3], [4, 5, 6]])"
   ]
  },
  {
   "cell_type": "code",
   "execution_count": 45,
   "id": "423c8973-b6eb-4113-91ac-222f3f30bae2",
   "metadata": {},
   "outputs": [
    {
     "name": "stdout",
     "output_type": "stream",
     "text": [
      "Original array:\n",
      "[[1 2 3]\n",
      " [4 5 6]]\n",
      "Moving sum along rows:\n",
      "[[3, 5], [9, 11]]\n"
     ]
    }
   ],
   "source": [
    "arr = np.array([[1, 2, 3], [4, 5, 6]])\n",
    "\n",
    "def moving_sum(a, window_size):\n",
    "    return [sum(a[i:i+window_size]) for i in range(len(a) - window_size + 1)]\n",
    "\n",
    "# Apply the custom function to calculate moving sum along rows\n",
    "window_size = 2\n",
    "moving_sum_along_rows = [moving_sum(row, window_size) for row in arr]\n",
    "\n",
    "print(\"Original array:\")\n",
    "print(arr)\n",
    "print(\"Moving sum along rows:\")\n",
    "print(moving_sum_along_rows)"
   ]
  },
  {
   "cell_type": "markdown",
   "id": "0176f46d-37ec-40b5-a295-f757da700d74",
   "metadata": {},
   "source": [
    "# 45. In the given array, check if all elements in each column are even.\n",
    "arr = np.array([[2, 4, 6], [3, 5, 7]])"
   ]
  },
  {
   "cell_type": "code",
   "execution_count": 46,
   "id": "3f910248-1ff6-47b7-b833-327588d4f93c",
   "metadata": {},
   "outputs": [
    {
     "name": "stdout",
     "output_type": "stream",
     "text": [
      "Original array:\n",
      "[[2 4 6]\n",
      " [3 5 7]]\n",
      "Columns with all even elements:\n",
      "[False False False]\n"
     ]
    }
   ],
   "source": [
    "arr = np.array([[2, 4, 6], [3, 5, 7]])\n",
    "\n",
    "even_columns = np.all(arr % 2 == 0, axis=0)\n",
    "\n",
    "print(\"Original array:\")\n",
    "print(arr)\n",
    "print(\"Columns with all even elements:\")\n",
    "print(even_columns)"
   ]
  },
  {
   "cell_type": "markdown",
   "id": "419f1a99-beee-405f-97cd-384483c501ee",
   "metadata": {},
   "source": [
    "# 46. Given a NumPy array arr, reshape it into a matrix of dimensions `m` rows and `n` columns. Return the reshaped matrix.\n",
    "original_array = np.array([1, 2, 3, 4, 5, 6])"
   ]
  },
  {
   "cell_type": "code",
   "execution_count": 47,
   "id": "4c9e6e17-21a8-4687-aecb-67092f4df239",
   "metadata": {},
   "outputs": [
    {
     "name": "stdout",
     "output_type": "stream",
     "text": [
      "Original array:\n",
      "[1 2 3 4 5 6]\n",
      "Reshaped matrix:\n",
      "[[1 2 3]\n",
      " [4 5 6]]\n"
     ]
    }
   ],
   "source": [
    "original_array = np.array([1, 2, 3, 4, 5, 6])\n",
    "\n",
    "m = 2\n",
    "n = 3\n",
    "\n",
    "reshaped_matrix = original_array.reshape(m, n)\n",
    "\n",
    "print(\"Original array:\")\n",
    "print(original_array)\n",
    "print(\"Reshaped matrix:\")\n",
    "print(reshaped_matrix)"
   ]
  },
  {
   "cell_type": "markdown",
   "id": "e5f43acc-7dc0-4296-b0db-ebb3a599cc7d",
   "metadata": {},
   "source": [
    "47. Create a function that takes a matrix as input and returns the flattened array.\n",
    "input_matrix = np.array([[1, 2, 3], [4, 5, 6]])"
   ]
  },
  {
   "cell_type": "code",
   "execution_count": 48,
   "id": "c4091623-7510-4992-bf59-382d3d4b1c83",
   "metadata": {},
   "outputs": [
    {
     "name": "stdout",
     "output_type": "stream",
     "text": [
      "Input matrix:\n",
      "[[1 2 3]\n",
      " [4 5 6]]\n",
      "Flattened array:\n",
      "[1 2 3 4 5 6]\n"
     ]
    }
   ],
   "source": [
    "def flatten_matrix(matrix):\n",
    "    return matrix.flatten()\n",
    "\n",
    "input_matrix = np.array([[1, 2, 3], [4, 5, 6]])\n",
    "\n",
    "flattened_array = flatten_matrix(input_matrix)\n",
    "\n",
    "print(\"Input matrix:\")\n",
    "print(input_matrix)\n",
    "print(\"Flattened array:\")\n",
    "print(flattened_array)"
   ]
  },
  {
   "cell_type": "markdown",
   "id": "d62fe97c-5bdb-457c-8f35-581abb16bade",
   "metadata": {},
   "source": [
    "# 48. Write a function that concatenates two given arrays along a specified axis.\n",
    "array1 = np.array([[1, 2], [3, 4]]) ",
    "\n",
    "array2 = np.array([[5, 6], [7, 8]])"
   ]
  },
  {
   "cell_type": "code",
   "execution_count": 49,
   "id": "a54ccc4b-a202-462e-a958-4be72e972780",
   "metadata": {},
   "outputs": [
    {
     "name": "stdout",
     "output_type": "stream",
     "text": [
      "Array 1:\n",
      "[[1 2]\n",
      " [3 4]]\n",
      "Array 2:\n",
      "[[5 6]\n",
      " [7 8]]\n",
      "Concatenated array along axis 0:\n",
      "[[1 2]\n",
      " [3 4]\n",
      " [5 6]\n",
      " [7 8]]\n",
      "Concatenated array along axis 1:\n",
      "[[1 2 5 6]\n",
      " [3 4 7 8]]\n"
     ]
    }
   ],
   "source": [
    "def concatenate_arrays(array1, array2, axis):\n",
    "    return np.concatenate((array1, array2), axis=axis)\n",
    "\n",
    "array1 = np.array([[1, 2], [3, 4]])\n",
    "array2 = np.array([[5, 6], [7, 8]])\n",
    "\n",
    "concatenated_array_axis0 = concatenate_arrays(array1, array2, axis=0)\n",
    "\n",
    "concatenated_array_axis1 = concatenate_arrays(array1, array2, axis=1)\n",
    "\n",
    "print(\"Array 1:\")\n",
    "print(array1)\n",
    "print(\"Array 2:\")\n",
    "print(array2)\n",
    "print(\"Concatenated array along axis 0:\")\n",
    "print(concatenated_array_axis0)\n",
    "print(\"Concatenated array along axis 1:\")\n",
    "print(concatenated_array_axis1)"
   ]
  },
  {
   "cell_type": "markdown",
   "id": "a6d3c93f-88ac-4f0a-ac56-db41bb11609c",
   "metadata": {},
   "source": [
    "# 49. Create a function that splits an array into multiple sub-arrays along a specified axis.\n",
    "original_array = np.array([[1, 2, 3], [4, 5, 6], [7, 8, 9]])"
   ]
  },
  {
   "cell_type": "code",
   "execution_count": 50,
   "id": "5e987fe9-2165-404f-b5bb-4c67ecb9b75b",
   "metadata": {},
   "outputs": [
    {
     "name": "stdout",
     "output_type": "stream",
     "text": [
      "Original array:\n",
      "[[1 2 3]\n",
      " [4 5 6]\n",
      " [7 8 9]]\n",
      "Sub-arrays along axis 0:\n",
      "Sub-array 1:\n",
      "[[1 2 3]]\n",
      "Sub-array 2:\n",
      "[[4 5 6]]\n",
      "Sub-array 3:\n",
      "[[7 8 9]]\n",
      "Sub-arrays along axis 1:\n",
      "Sub-array 1:\n",
      "[[1]\n",
      " [4]\n",
      " [7]]\n",
      "Sub-array 2:\n",
      "[[2]\n",
      " [5]\n",
      " [8]]\n",
      "Sub-array 3:\n",
      "[[3]\n",
      " [6]\n",
      " [9]]\n"
     ]
    }
   ],
   "source": [
    "def split_array(array, num_subarrays, axis):\n",
    "    return np.split(array, num_subarrays, axis=axis)\n",
    "\n",
    "original_array = np.array([[1, 2, 3], [4, 5, 6], [7, 8, 9]])\n",
    "\n",
    "subarrays_axis0 = split_array(original_array, 3, axis=0)\n",
    "\n",
    "subarrays_axis1 = split_array(original_array, 3, axis=1)\n",
    "\n",
    "print(\"Original array:\")\n",
    "print(original_array)\n",
    "print(\"Sub-arrays along axis 0:\")\n",
    "for i, subarray in enumerate(subarrays_axis0):\n",
    "    print(f\"Sub-array {i+1}:\")\n",
    "    print(subarray)\n",
    "print(\"Sub-arrays along axis 1:\")\n",
    "for i, subarray in enumerate(subarrays_axis1):\n",
    "    print(f\"Sub-array {i+1}:\")\n",
    "    print(subarray)"
   ]
  },
  {
   "cell_type": "markdown",
   "id": "a100741b-6e2e-4193-9dcb-e02eb8ab0409",
   "metadata": {},
   "source": [
    "# 50. Write a function that inserts and then deletes elements from a given array at specified indices.\n",
    "original_array = np.array([1, 2, 3, 4, 5])\n",
    "\n",
    "indices_to_insert = [2, 4]\n",
    "\n",
    "values_to_insert = [10, 11]\n",
    "\n",
    "indices_to_delete = [1, 3]"
   ]
  },
  {
   "cell_type": "code",
   "execution_count": 51,
   "id": "4aa8bdec-1be5-4932-af0c-78e54e75c68a",
   "metadata": {},
   "outputs": [
    {
     "name": "stdout",
     "output_type": "stream",
     "text": [
      "Original array:\n",
      "[1 2 3 4 5]\n",
      "Modified array:\n",
      "[ 1 10 11  4  5]\n"
     ]
    }
   ],
   "source": [
    "def insert_and_delete_elements(original_array, indices_to_insert, values_to_insert, indices_to_delete):\n",
    "    # Convert the original array to a list for easier manipulation\n",
    "    array_list = original_array.tolist()\n",
    "    \n",
    "    # Insert new elements at specified indices\n",
    "    for index, value in zip(indices_to_insert, values_to_insert):\n",
    "        array_list.insert(index, value)\n",
    "    \n",
    "    # Delete elements at specified indices\n",
    "    for index in sorted(indices_to_delete, reverse=True):\n",
    "        del array_list[index]\n",
    "    \n",
    "    # Convert the list back to a numpy array\n",
    "    modified_array = np.array(array_list)\n",
    "    \n",
    "    return modified_array\n",
    "\n",
    "# Create a 1D array\n",
    "original_array = np.array([1, 2, 3, 4, 5])\n",
    "\n",
    "# Specify the indices and values to insert\n",
    "indices_to_insert = [2, 4]\n",
    "values_to_insert = [10, 11]\n",
    "\n",
    "# Specify the indices to delete\n",
    "indices_to_delete = [1, 3]\n",
    "\n",
    "# Insert and delete elements\n",
    "modified_array = insert_and_delete_elements(original_array, indices_to_insert, values_to_insert, indices_to_delete)\n",
    "\n",
    "print(\"Original array:\")\n",
    "print(original_array)\n",
    "print(\"Modified array:\")\n",
    "print(modified_array)"
   ]
  },
  {
   "cell_type": "markdown",
   "id": "4ecb0738-47f1-4a84-b9f0-ddc80bb2f6ee",
   "metadata": {},
   "source": [
    "# 51. Create a NumPy array `arr1` with random integers and another array `arr2` with integers from 1 to 10. Perform element-wise addition between `arr1` and `arr2`."
   ]
  },
  {
   "cell_type": "code",
   "execution_count": 52,
   "id": "a3972b2f-02b7-4d11-91e7-5a6d841848f4",
   "metadata": {},
   "outputs": [
    {
     "name": "stdout",
     "output_type": "stream",
     "text": [
      "Array 1 (arr1):\n",
      "[ 2 59 68 59 49 25 27 67 16 98]\n",
      "Array 2 (arr2):\n",
      "[ 1  2  3  4  5  6  7  8  9 10]\n",
      "Element-wise addition result:\n",
      "[  3  61  71  63  54  31  34  75  25 108]\n"
     ]
    }
   ],
   "source": [
    "# Create a NumPy array arr1 with random integers\n",
    "arr1 = np.random.randint(1, 100, 10)\n",
    "print(\"Array 1 (arr1):\")\n",
    "print(arr1)\n",
    "\n",
    "# Create a NumPy array arr2 with integers from 1 to 10\n",
    "arr2 = np.arange(1, 11)\n",
    "print(\"Array 2 (arr2):\")\n",
    "print(arr2)\n",
    "\n",
    "# Perform element-wise addition between arr1 and arr2\n",
    "result = arr1 + arr2\n",
    "print(\"Element-wise addition result:\")\n",
    "print(result)"
   ]
  },
  {
   "cell_type": "markdown",
   "id": "b2c09d17-a8ee-4564-af61-50eb13088942",
   "metadata": {},
   "source": [
    "# 52. Generate a NumPy array `arr1` with sequential integers from 10 to 1 and another array `arr2` with integers from 1 to 10. Subtract `arr2` from `arr1` element-wise."
   ]
  },
  {
   "cell_type": "code",
   "execution_count": 53,
   "id": "91d399ed-7ed9-4c11-8c2a-268819ea92af",
   "metadata": {},
   "outputs": [
    {
     "name": "stdout",
     "output_type": "stream",
     "text": [
      "Array 1 (arr1):\n",
      "[10  9  8  7  6  5  4  3  2  1]\n",
      "Array 2 (arr2):\n",
      "[ 1  2  3  4  5  6  7  8  9 10]\n",
      "Element-wise subtraction result:\n",
      "[ 9  7  5  3  1 -1 -3 -5 -7 -9]\n"
     ]
    }
   ],
   "source": [
    "# Generate a NumPy array arr1 with sequential integers from 10 to 1\n",
    "arr1 = np.arange(10, 0, -1)\n",
    "print(\"Array 1 (arr1):\")\n",
    "print(arr1)\n",
    "\n",
    "# Generate a NumPy array arr2 with integers from 1 to 10\n",
    "arr2 = np.arange(1, 11)\n",
    "print(\"Array 2 (arr2):\")\n",
    "print(arr2)\n",
    "\n",
    "# Subtract arr2 from arr1 element-wise\n",
    "result = arr1 - arr2\n",
    "print(\"Element-wise subtraction result:\")\n",
    "print(result)"
   ]
  },
  {
   "cell_type": "markdown",
   "id": "f6d09e08-ae1a-46f2-8c8e-9a11393e3f17",
   "metadata": {},
   "source": [
    "# 53. Create a NumPy array `arr1` with random integers and another array `arr2` with integers from 1 to 5. Perform element-wise multiplication between `arr1` and `arr2`."
   ]
  },
  {
   "cell_type": "code",
   "execution_count": 54,
   "id": "7e12e3f9-66db-4206-9408-87866144e55b",
   "metadata": {},
   "outputs": [
    {
     "name": "stdout",
     "output_type": "stream",
     "text": [
      "Array 1 (arr1):\n",
      "[5 8 6 7 3]\n",
      "Array 2 (arr2):\n",
      "[1 2 3 4 5]\n",
      "Element-wise multiplication result:\n",
      "[ 5 16 18 28 15]\n"
     ]
    }
   ],
   "source": [
    "# Create a NumPy array arr1 with random integers\n",
    "arr1 = np.random.randint(1, 10, 5)\n",
    "print(\"Array 1 (arr1):\")\n",
    "print(arr1)\n",
    "\n",
    "# Create a NumPy array arr2 with integers from 1 to 5\n",
    "arr2 = np.arange(1, 6)\n",
    "print(\"Array 2 (arr2):\")\n",
    "print(arr2)\n",
    "\n",
    "# Perform element-wise multiplication between arr1 and arr2\n",
    "result = arr1 * arr2\n",
    "print(\"Element-wise multiplication result:\")\n",
    "print(result)"
   ]
  },
  {
   "cell_type": "markdown",
   "id": "81118105-785a-45aa-b2e8-39750d4a84e8",
   "metadata": {},
   "source": [
    "# 54. Generate a NumPy array `arr1` with even integers from 2 to 10 and another array `arr2` with integers from 1 to 5. Perform element-wise division of `arr1` by `arr2`."
   ]
  },
  {
   "cell_type": "code",
   "execution_count": 55,
   "id": "9b512e79-f2d5-46bd-ab79-21fe22958131",
   "metadata": {},
   "outputs": [
    {
     "name": "stdout",
     "output_type": "stream",
     "text": [
      "Array 1 (arr1):\n",
      "[ 2  4  6  8 10]\n",
      "Array 2 (arr2):\n",
      "[1 2 3 4 5]\n",
      "Element-wise division result:\n",
      "[2. 2. 2. 2. 2.]\n"
     ]
    }
   ],
   "source": [
    "# Generate a NumPy array arr1 with even integers from 2 to 10\n",
    "arr1 = np.arange(2, 11, 2)\n",
    "print(\"Array 1 (arr1):\")\n",
    "print(arr1)\n",
    "\n",
    "# Generate a NumPy array arr2 with integers from 1 to 5\n",
    "arr2 = np.arange(1, 6)\n",
    "print(\"Array 2 (arr2):\")\n",
    "print(arr2)\n",
    "\n",
    "# Perform element-wise division of arr1 by arr2\n",
    "result = arr1 / arr2\n",
    "print(\"Element-wise division result:\")\n",
    "print(result)"
   ]
  },
  {
   "cell_type": "markdown",
   "id": "2a3fa5e2-2df4-4d75-8c04-a6d7fafbb90a",
   "metadata": {},
   "source": [
    "# 55. Create a NumPy array `arr1` with integers from 1 to 5 and another array `arr2` with the same numbers reversed. Calculate the exponentiation of `arr1` raised to the power of `arr2` element-wise."
   ]
  },
  {
   "cell_type": "code",
   "execution_count": 56,
   "id": "37e8b6a9-28f7-4d8c-aa7d-b8bf34e755fa",
   "metadata": {},
   "outputs": [
    {
     "name": "stdout",
     "output_type": "stream",
     "text": [
      "Array 1 (arr1):\n",
      "[1 2 3 4 5]\n",
      "Array 2 (arr2):\n",
      "[5 4 3 2 1]\n",
      "Element-wise exponentiation result:\n",
      "[ 1 16 27 16  5]\n"
     ]
    }
   ],
   "source": [
    "# Create a NumPy array arr1 with integers from 1 to 5\n",
    "arr1 = np.arange(1, 6)\n",
    "print(\"Array 1 (arr1):\")\n",
    "print(arr1)\n",
    "\n",
    "# Create a NumPy array arr2 with the same numbers reversed\n",
    "arr2 = np.arange(5, 0, -1)\n",
    "print(\"Array 2 (arr2):\")\n",
    "print(arr2)\n",
    "\n",
    "# Calculate the exponentiation of arr1 raised to the power of arr2 element-wise\n",
    "result = arr1 ** arr2\n",
    "print(\"Element-wise exponentiation result:\")\n",
    "print(result)"
   ]
  },
  {
   "cell_type": "markdown",
   "id": "7efdc166-5385-4523-8901-36a16d3dccb6",
   "metadata": {},
   "source": [
    "# 56. Write a function that counts the occurrences of a specific substring within a NumPy array of strings.\n",
    "arr = np.array(['hello', 'world', 'hello', 'numpy', 'hello'])"
   ]
  },
  {
   "cell_type": "code",
   "execution_count": 57,
   "id": "6c8d8ed6-65da-4e00-b8ee-a59515761bf0",
   "metadata": {},
   "outputs": [
    {
     "name": "stdout",
     "output_type": "stream",
     "text": [
      "The substring 'hello' occurs 3 times in the array.\n"
     ]
    }
   ],
   "source": [
    "def count_substring(arr, substring):\n",
    "    return np.sum(np.char.find(arr, substring)!= -1)\n",
    "\n",
    "arr = np.array(['hello', 'world', 'hello', 'numpy', 'hello'])\n",
    "substring = 'hello'\n",
    "\n",
    "count = count_substring(arr, substring)\n",
    "print(f\"The substring '{substring}' occurs {count} times in the array.\")"
   ]
  },
  {
   "cell_type": "markdown",
   "id": "9f62c0c5-2b30-4136-88b5-9385d6bf9266",
   "metadata": {},
   "source": [
    "# 57. Write a function that extracts uppercase characters from a NumPy array of strings.\n",
    "\n",
    "arr = np.array(['Hello', 'World', 'OpenAI', 'GPT'])"
   ]
  },
  {
   "cell_type": "code",
   "execution_count": 58,
   "id": "50550e68-2ba3-4590-94ab-2751ca57991d",
   "metadata": {},
   "outputs": [
    {
     "name": "stdout",
     "output_type": "stream",
     "text": [
      "['H' 'W' 'OAI' 'GPT']\n"
     ]
    }
   ],
   "source": [
    "def extract_uppercase(arr):\n",
    "    return np.array([''.join(filter(str.isupper, word)) for word in arr])\n",
    "\n",
    "arr = np.array(['Hello', 'World', 'OpenAI', 'GPT'])\n",
    "result = extract_uppercase(arr)\n",
    "print(result)"
   ]
  },
  {
   "cell_type": "markdown",
   "id": "0d12d87f-a29a-404c-864c-aed0562c9b85",
   "metadata": {},
   "source": [
    "# 58. Write a function that replaces occurrences of a substring in a NumPy array of strings with a new string.\n",
    "arr = np.array(['apple', 'banana', 'grape', 'pineapple'])"
   ]
  },
  {
   "cell_type": "code",
   "execution_count": 59,
   "id": "96596b05-316d-4c58-b205-48aac30684db",
   "metadata": {},
   "outputs": [
    {
     "name": "stdout",
     "output_type": "stream",
     "text": [
      "['mango' 'banana' 'grape' 'pinemango']\n"
     ]
    }
   ],
   "source": [
    "def replace_substring(arr, old, new):\n",
    "    return np.char.replace(arr, old, new)\n",
    "\n",
    "arr = np.array(['apple', 'banana', 'grape', 'pineapple'])\n",
    "old = 'apple'\n",
    "new = 'mango'\n",
    "\n",
    "result = replace_substring(arr, old, new)\n",
    "print(result)"
   ]
  },
  {
   "cell_type": "markdown",
   "id": "e3bf024a-6864-4188-962b-967840eb81de",
   "metadata": {},
   "source": [
    "# 59. Write a function that concatenates strings in a NumPy array element-wise.\n",
    "arr1 = np.array(['Hello', 'World'])\n",
    "arr2 = np.array(['Open', 'AI'])"
   ]
  },
  {
   "cell_type": "code",
   "execution_count": 60,
   "id": "9ee1d73f-03b8-4256-91fa-d65611c81d64",
   "metadata": {},
   "outputs": [
    {
     "name": "stdout",
     "output_type": "stream",
     "text": [
      "['HelloOpen' 'WorldAI']\n"
     ]
    }
   ],
   "source": [
    "def concatenate_strings(arr1, arr2):\n",
    "    return np.core.defchararray.add(arr1, arr2)\n",
    "\n",
    "arr1 = np.array(['Hello', 'World'])\n",
    "arr2 = np.array(['Open', 'AI'])\n",
    "\n",
    "result = concatenate_strings(arr1, arr2)\n",
    "print(result)"
   ]
  },
  {
   "cell_type": "markdown",
   "id": "3d2e3e7e-1a3a-45b3-92fe-c0f7cc5c5f9c",
   "metadata": {},
   "source": [
    "# 60. Write a function that finds the length of the longest string in a NumPy array.\n",
    "\n",
    "arr = np.array(['apple', 'banana', 'grape', 'pineapple'])"
   ]
  },
  {
   "cell_type": "code",
   "execution_count": 61,
   "id": "44baa2c7-b930-4e56-a47a-87cfea870bc0",
   "metadata": {},
   "outputs": [
    {
     "name": "stdout",
     "output_type": "stream",
     "text": [
      "9\n"
     ]
    }
   ],
   "source": [
    "def longest_string_length(arr):\n",
    "    return np.max(np.char.str_len(arr))\n",
    "\n",
    "arr = np.array(['apple', 'banana', 'grape', 'pineapple'])\n",
    "\n",
    "result = longest_string_length(arr)\n",
    "print(result)"
   ]
  },
  {
   "cell_type": "markdown",
   "id": "affc9d37-3bbe-4805-9d34-5532dcbf0c0d",
   "metadata": {},
   "source": [
    "# 61. Create a dataset of 100 random integers between 1 and 1000. Compute the mean, median, variance, and standard deviation of the dataset using NumPy's functions."
   ]
  },
  {
   "cell_type": "code",
   "execution_count": 62,
   "id": "8f2a9a0f-e088-4d9b-b906-15c6f26a69e6",
   "metadata": {},
   "outputs": [
    {
     "name": "stdout",
     "output_type": "stream",
     "text": [
      "Mean: 480.74\n",
      "Median: 479.0\n",
      "Variance: 85866.83240000001\n",
      "Standard Deviation: 293.0304291366342\n"
     ]
    }
   ],
   "source": [
    "# Create a dataset of 100 random integers between 1 and 1000\n",
    "dataset = np.random.randint(1, 1001, 100)\n",
    "\n",
    "# Compute the mean\n",
    "mean = np.mean(dataset)\n",
    "print(\"Mean:\", mean)\n",
    "\n",
    "# Compute the median\n",
    "median = np.median(dataset)\n",
    "print(\"Median:\", median)\n",
    "\n",
    "# Compute the variance\n",
    "variance = np.var(dataset)\n",
    "print(\"Variance:\", variance)\n",
    "\n",
    "# Compute the standard deviation\n",
    "std_dev = np.std(dataset)\n",
    "print(\"Standard Deviation:\", std_dev)"
   ]
  },
  {
   "cell_type": "markdown",
   "id": "6d5bcdf0-21ac-4c6b-9a84-19d015f4a4be",
   "metadata": {},
   "source": [
    "# 62. Generate an array of 50 random numbers between 1 and 100. Find the 25th and 75th percentiles of the dataset."
   ]
  },
  {
   "cell_type": "code",
   "execution_count": 63,
   "id": "42da7432-033e-4097-a51e-8bf5472e660c",
   "metadata": {},
   "outputs": [
    {
     "name": "stdout",
     "output_type": "stream",
     "text": [
      "25th Percentile (Q1): 25.25\n",
      "75th Percentile (Q3): 74.75\n"
     ]
    }
   ],
   "source": [
    "# Generate an array of 50 random numbers between 1 and 100\n",
    "dataset = np.random.randint(1, 101, 50)\n",
    "\n",
    "# Sort the dataset in ascending order\n",
    "dataset.sort()\n",
    "\n",
    "# Find the 25th percentile (Q1)\n",
    "q1 = np.percentile(dataset, 25)\n",
    "print(\"25th Percentile (Q1):\", q1)\n",
    "\n",
    "# Find the 75th percentile (Q3)\n",
    "q3 = np.percentile(dataset, 75)\n",
    "print(\"75th Percentile (Q3):\", q3)"
   ]
  },
  {
   "cell_type": "markdown",
   "id": "ba732f5b-5be5-46dd-a083-ceadc5f275fa",
   "metadata": {},
   "source": [
    "# 63. Create two arrays representing two sets of variables. Compute the correlation coefficient between these arrays using NumPy's `corrcoef` function."
   ]
  },
  {
   "cell_type": "code",
   "execution_count": 64,
   "id": "adef1a57-011b-45d0-9ac9-a4f2ffa98c64",
   "metadata": {},
   "outputs": [
    {
     "name": "stdout",
     "output_type": "stream",
     "text": [
      "Correlation Coefficient: 0.3671242883813547\n"
     ]
    }
   ],
   "source": [
    "# Create two arrays representing two sets of variables\n",
    "array1 = np.array([23, 11, 18, 25, 9, 17, 22, 20, 15, 24])\n",
    "array2 = np.array([12, 15, 8, 21, 10, 19, 13, 16, 11, 14])\n",
    "\n",
    "# Compute the correlation coefficient between the two arrays\n",
    "correlation_coefficient = np.corrcoef(array1, array2)[0, 1]\n",
    "\n",
    "print(\"Correlation Coefficient:\", correlation_coefficient)"
   ]
  },
  {
   "cell_type": "markdown",
   "id": "9c79b235-55b3-4abf-aa16-b749fd1732fa",
   "metadata": {},
   "source": [
    "# 64. Create two matrices and perform matrix multiplication using NumPy's `dot` function."
   ]
  },
  {
   "cell_type": "code",
   "execution_count": 65,
   "id": "c2d7e461-fd45-4a4d-8b2d-f30495f8d5c1",
   "metadata": {},
   "outputs": [
    {
     "name": "stdout",
     "output_type": "stream",
     "text": [
      "Matrix 1:\n",
      "[[1 2 3]\n",
      " [4 5 6]]\n",
      "Matrix 2:\n",
      "[[ 7  8]\n",
      " [ 9 10]\n",
      " [11 12]]\n",
      "Result of Matrix Multiplication:\n",
      "[[ 58  64]\n",
      " [139 154]]\n"
     ]
    }
   ],
   "source": [
    "# Create two matrices\n",
    "matrix1 = np.array([[1, 2, 3], [4, 5, 6]])\n",
    "matrix2 = np.array([[7, 8], [9, 10], [11, 12]])\n",
    "\n",
    "# Perform matrix multiplication using NumPy's dot function\n",
    "result = np.dot(matrix1, matrix2)\n",
    "\n",
    "print(\"Matrix 1:\")\n",
    "print(matrix1)\n",
    "print(\"Matrix 2:\")\n",
    "print(matrix2)\n",
    "print(\"Result of Matrix Multiplication:\")\n",
    "print(result)"
   ]
  },
  {
   "cell_type": "markdown",
   "id": "0a217317-772f-4a07-87c5-59c88b93d547",
   "metadata": {},
   "source": [
    "# 65. Create an array of 50 integers between 10 and 1000. Calculate the 10th, 50th (median), and 90th percentiles along with the first and third quartiles."
   ]
  },
  {
   "cell_type": "code",
   "execution_count": 66,
   "id": "ac93899c-ccd0-4d28-bf60-396e01078367",
   "metadata": {},
   "outputs": [
    {
     "name": "stdout",
     "output_type": "stream",
     "text": [
      "Original Array:\n",
      "[341 269 809  56 125 469  28 493 449 104 394 946  25  59  94 105 664  23\n",
      " 239  50 128 932 401 537 543 982 722 478 957 104 382 258 118 274 345 334\n",
      "  87 380 737 233 860 354 145 933  60 462 455 178 411 856]\n",
      "\n",
      "Percentiles and Quartiles:\n",
      "10th Percentile: 58.7\n",
      "50th Percentile (Median): 349.5\n",
      "90th Percentile: 867.2\n",
      "First Quartile (25th Percentile): 119.75\n",
      "Third Quartile (75th Percentile): 526.0\n"
     ]
    }
   ],
   "source": [
    "# Create an array of 50 integers between 10 and 1000\n",
    "array = np.random.randint(10, 1001, 50)\n",
    "\n",
    "# Calculate the 10th, 50th (median), and 90th percentiles\n",
    "percentile_10 = np.percentile(array, 10)\n",
    "percentile_50 = np.percentile(array, 50)\n",
    "percentile_90 = np.percentile(array, 90)\n",
    "\n",
    "# Calculate the first and third quartiles (25th and 75th percentiles)\n",
    "quartile_1 = np.percentile(array, 25)\n",
    "quartile_3 = np.percentile(array, 75)\n",
    "\n",
    "print(\"Original Array:\")\n",
    "print(array)\n",
    "print(\"\\nPercentiles and Quartiles:\")\n",
    "print(\"10th Percentile:\", percentile_10)\n",
    "print(\"50th Percentile (Median):\", percentile_50)\n",
    "print(\"90th Percentile:\", percentile_90)\n",
    "print(\"First Quartile (25th Percentile):\", quartile_1)\n",
    "print(\"Third Quartile (75th Percentile):\", quartile_3)"
   ]
  },
  {
   "cell_type": "markdown",
   "id": "309f37af-3a0f-4c2c-b994-78882504c7a3",
   "metadata": {},
   "source": [
    "# 66. Create a NumPy array of integers and find the index of a specific element."
   ]
  },
  {
   "cell_type": "code",
   "execution_count": 67,
   "id": "bbbc4b3c-a60f-4609-97f8-620ab96d71d3",
   "metadata": {},
   "outputs": [
    {
     "name": "stdout",
     "output_type": "stream",
     "text": [
      "Original Array:\n",
      "[ 12  25  37  48  59  61  72  83  94 105]\n",
      "\n",
      "Index of 61 : 5\n"
     ]
    }
   ],
   "source": [
    "# Create a NumPy array of integers\n",
    "array = np.array([12, 25, 37, 48, 59, 61, 72, 83, 94, 105])\n",
    "\n",
    "# Specify the element to find\n",
    "target_element = 61\n",
    "\n",
    "# Find the index of the target element\n",
    "index = np.where(array == target_element)[0][0]\n",
    "\n",
    "print(\"Original Array:\")\n",
    "print(array)\n",
    "print(\"\\nIndex of\", target_element, \":\", index)"
   ]
  },
  {
   "cell_type": "markdown",
   "id": "b02ac61d-8cc9-4847-b3a9-7256764bddff",
   "metadata": {},
   "source": [
    "# 67. Generate a random NumPy array and sort it in ascending order."
   ]
  },
  {
   "cell_type": "code",
   "execution_count": 68,
   "id": "fb6701e9-11ea-4a37-b713-f04ad6663780",
   "metadata": {},
   "outputs": [
    {
     "name": "stdout",
     "output_type": "stream",
     "text": [
      "Original Array:\n",
      "[62 20 91  2 26 64 64 66 47 95]\n",
      "\n",
      "Sorted Array:\n",
      "[ 2 20 26 47 62 64 64 66 91 95]\n"
     ]
    }
   ],
   "source": [
    "# Generate a random NumPy array\n",
    "array = np.random.randint(0, 100, 10)\n",
    "\n",
    "print(\"Original Array:\")\n",
    "print(array)\n",
    "\n",
    "# Sort the array in ascending order\n",
    "sorted_array = np.sort(array)\n",
    "\n",
    "print(\"\\nSorted Array:\")\n",
    "print(sorted_array)"
   ]
  },
  {
   "cell_type": "markdown",
   "id": "1b16b57f-94d8-4d34-8fab-7b5c9a8ee9e1",
   "metadata": {},
   "source": [
    "# 68. Filter elements >20  in the given NumPy array.\n",
    "arr = np.array([12, 25, 6, 42, 8, 30])"
   ]
  },
  {
   "cell_type": "code",
   "execution_count": 69,
   "id": "69e6d3ce-b7ad-48d6-b50c-41a8dde12198",
   "metadata": {},
   "outputs": [
    {
     "name": "stdout",
     "output_type": "stream",
     "text": [
      "Original Array:\n",
      "[12 25  6 42  8 30]\n",
      "\n",
      "Filtered Array (elements > 20):\n",
      "[25 42 30]\n"
     ]
    }
   ],
   "source": [
    "# Given NumPy array\n",
    "arr = np.array([12, 25, 6, 42, 8, 30])\n",
    "\n",
    "print(\"Original Array:\")\n",
    "print(arr)\n",
    "\n",
    "# Filter elements greater than 20\n",
    "filtered_array = arr[arr > 20]\n",
    "\n",
    "print(\"\\nFiltered Array (elements > 20):\")\n",
    "print(filtered_array)"
   ]
  },
  {
   "cell_type": "markdown",
   "id": "4ed994d5-2ae7-431a-81c2-68629b46fbcb",
   "metadata": {},
   "source": [
    "# 69. Filter elements which are divisible by 3 from a given NumPy array.\n",
    "arr = np.array([1, 5, 8, 12, 15])"
   ]
  },
  {
   "cell_type": "code",
   "execution_count": 70,
   "id": "22a3c862-8c7a-450f-880e-32777a64214f",
   "metadata": {},
   "outputs": [
    {
     "name": "stdout",
     "output_type": "stream",
     "text": [
      "Original Array:\n",
      "[ 1  5  8 12 15]\n",
      "\n",
      "Filtered Array (elements divisible by 3):\n",
      "[12 15]\n"
     ]
    }
   ],
   "source": [
    "# Given NumPy array\n",
    "arr = np.array([1, 5, 8, 12, 15])\n",
    "\n",
    "print(\"Original Array:\")\n",
    "print(arr)\n",
    "\n",
    "# Filter elements divisible by 3\n",
    "filtered_array = arr[arr % 3 == 0]\n",
    "\n",
    "print(\"\\nFiltered Array (elements divisible by 3):\")\n",
    "print(filtered_array)"
   ]
  },
  {
   "cell_type": "markdown",
   "id": "2d53f5fc-7efb-4539-8c3a-9c5eb0481027",
   "metadata": {},
   "source": [
    "# 70. Filter elements which are ≥ 20 and ≤ 40 from a given NumPy array.\n",
    "arr = np.array([10, 20, 30, 40, 50])"
   ]
  },
  {
   "cell_type": "code",
   "execution_count": 71,
   "id": "9c3f8a34-7689-49d9-bdc8-96b85caf5978",
   "metadata": {},
   "outputs": [
    {
     "name": "stdout",
     "output_type": "stream",
     "text": [
      "Original Array:\n",
      "[10 20 30 40 50]\n",
      "\n",
      "Filtered Array (elements ≥ 20 and ≤ 40):\n",
      "[20 30 40]\n"
     ]
    }
   ],
   "source": [
    "# Given NumPy array\n",
    "arr = np.array([10, 20, 30, 40, 50])\n",
    "\n",
    "print(\"Original Array:\")\n",
    "print(arr)\n",
    "\n",
    "# Filter elements ≥ 20 and ≤ 40\n",
    "filtered_array = arr[(arr >= 20) & (arr <= 40)]\n",
    "\n",
    "print(\"\\nFiltered Array (elements ≥ 20 and ≤ 40):\")\n",
    "print(filtered_array)"
   ]
  },
  {
   "cell_type": "markdown",
   "id": "eace7b77-d89a-4d4a-8ca0-a4ea2b66c409",
   "metadata": {},
   "source": [
    "# 71. For the given NumPy array, check its byte order using the `dtype` attribute byteorder.\n",
    "arr = np.array([1, 2, 3])"
   ]
  },
  {
   "cell_type": "code",
   "execution_count": 72,
   "id": "1a0de068-c020-4d91-afa0-997a75af95f4",
   "metadata": {},
   "outputs": [
    {
     "name": "stdout",
     "output_type": "stream",
     "text": [
      "Original Array:\n",
      "[1 2 3]\n",
      "\n",
      "Byte Order:\n",
      "=\n"
     ]
    }
   ],
   "source": [
    "# Given NumPy array\n",
    "arr = np.array([1, 2, 3])\n",
    "\n",
    "print(\"Original Array:\")\n",
    "print(arr)\n",
    "\n",
    "# Check byte order using dtype.byteorder\n",
    "byte_order = arr.dtype.byteorder\n",
    "\n",
    "print(\"\\nByte Order:\")\n",
    "print(byte_order)"
   ]
  },
  {
   "cell_type": "markdown",
   "id": "b2d2d20c-cd0d-4f5b-9705-396fbbb60850",
   "metadata": {},
   "source": [
    "# 72. For the given NumPy array, perform byte swapping in place using `byteswap()`.\n",
    "arr = np.array([1, 2, 3], dtype=np.int32)"
   ]
  },
  {
   "cell_type": "code",
   "execution_count": 73,
   "id": "51d5f9f8-278a-400c-835c-168f8d05fb9a",
   "metadata": {},
   "outputs": [
    {
     "name": "stdout",
     "output_type": "stream",
     "text": [
      "Original Array:\n",
      "[1 2 3]\n",
      "\n",
      "Original Byte Order:\n",
      "=\n",
      "\n",
      "Array after Byte Swapping:\n",
      "[16777216 33554432 50331648]\n",
      "\n",
      "Byte Order after Byte Swapping:\n",
      "=\n"
     ]
    }
   ],
   "source": [
    "# Given NumPy array\n",
    "arr = np.array([1, 2, 3], dtype=np.int32)\n",
    "\n",
    "print(\"Original Array:\")\n",
    "print(arr)\n",
    "\n",
    "print(\"\\nOriginal Byte Order:\")\n",
    "print(arr.dtype.byteorder)\n",
    "\n",
    "# Perform byte swapping in place using byteswap()\n",
    "arr.byteswap(inplace=True)\n",
    "\n",
    "print(\"\\nArray after Byte Swapping:\")\n",
    "print(arr)\n",
    "\n",
    "print(\"\\nByte Order after Byte Swapping:\")\n",
    "print(arr.dtype.byteorder)"
   ]
  },
  {
   "cell_type": "markdown",
   "id": "fa8e96f0-b54c-4999-a61b-9b99c9565c11",
   "metadata": {},
   "source": [
    "# 73. For the given NumPy array, swap its byte order without modifying the original array using\n",
    "`newbyteorder()`.\n",
    "arr = np.array([1, 2, 3], dtype=np.int32)"
   ]
  },
  {
   "cell_type": "code",
   "execution_count": 74,
   "id": "3134fa0e-0770-4ad0-9c2d-9b12689f8fb6",
   "metadata": {},
   "outputs": [
    {
     "name": "stdout",
     "output_type": "stream",
     "text": [
      "Original Array:\n",
      "[1 2 3]\n",
      "\n",
      "Original Byte Order:\n",
      "=\n",
      "\n",
      "Swapped Array:\n",
      "[16777216 33554432 50331648]\n",
      "\n",
      "Byte Order of Swapped Array:\n",
      ">\n"
     ]
    }
   ],
   "source": [
    "# Given NumPy array\n",
    "arr = np.array([1, 2, 3], dtype=np.int32)\n",
    "\n",
    "print(\"Original Array:\")\n",
    "print(arr)\n",
    "\n",
    "print(\"\\nOriginal Byte Order:\")\n",
    "print(arr.dtype.byteorder)\n",
    "\n",
    "# Swap byte order without modifying the original array using newbyteorder()\n",
    "swapped_arr = arr.newbyteorder()\n",
    "\n",
    "print(\"\\nSwapped Array:\")\n",
    "print(swapped_arr)\n",
    "\n",
    "print(\"\\nByte Order of Swapped Array:\")\n",
    "print(swapped_arr.dtype.byteorder)"
   ]
  },
  {
   "cell_type": "markdown",
   "id": "3f426214-9765-4561-a581-5b447205aabb",
   "metadata": {},
   "source": [
    "# 74. For the given NumPy array and swap its byte order conditionally based on system endianness using `newbyteorder()`.\n",
    "arr = np.array([1, 2, 3], dtype=np.int32)"
   ]
  },
  {
   "cell_type": "code",
   "execution_count": 75,
   "id": "a47f1577-d4b2-43bd-ae91-de401eefe66b",
   "metadata": {},
   "outputs": [
    {
     "name": "stdout",
     "output_type": "stream",
     "text": [
      "Original Array:\n",
      "[1 2 3]\n",
      "\n",
      "Original Byte Order:\n",
      "=\n",
      "\n",
      "System Endianness: <\n",
      "\n",
      "Swapped Array:\n",
      "[16777216 33554432 50331648]\n",
      "\n",
      "Byte Order of Swapped Array:\n",
      ">\n"
     ]
    }
   ],
   "source": [
    "arr = np.array([1, 2, 3], dtype=np.int32)\n",
    "\n",
    "print(\"Original Array:\")\n",
    "print(arr)\n",
    "\n",
    "print(\"\\nOriginal Byte Order:\")\n",
    "print(arr.dtype.byteorder)\n",
    "\n",
    "# Get the system endianness\n",
    "system_endianness = '<' if np.little_endian else '>'\n",
    "\n",
    "print(f\"\\nSystem Endianness: {system_endianness}\")\n",
    "\n",
    "# Swap byte order conditionally based on system endianness using newbyteorder()\n",
    "if arr.dtype.byteorder != system_endianness:\n",
    "    swapped_arr = arr.newbyteorder()\n",
    "    print(\"\\nSwapped Array:\")\n",
    "    print(swapped_arr)\n",
    "    print(\"\\nByte Order of Swapped Array:\")\n",
    "    print(swapped_arr.dtype.byteorder)\n",
    "else:\n",
    "    print(\"\\nNo need to swap byte order, as it matches the system endianness.\")\n",
    "    swapped_arr = arr\n",
    "    print(\"Swapped Array:\")\n",
    "    print(swapped_arr)\n",
    "    print(\"Byte Order of Swapped Array:\")\n",
    "    print(swapped_arr.dtype.byteorder)"
   ]
  },
  {
   "cell_type": "markdown",
   "id": "f4b2afaa-6f82-4a1b-9b07-c5a37baf2427",
   "metadata": {},
   "source": [
    "# 75. For the given NumPy array, check if byte swapping is necessary for the current system using `dtype` attribute `byteorder`.\n",
    "arr = np.array([1, 2, 3], dtype=np.int32)"
   ]
  },
  {
   "cell_type": "code",
   "execution_count": 76,
   "id": "ccc5468c-94b8-4d73-bbe1-39fe9334552c",
   "metadata": {},
   "outputs": [
    {
     "name": "stdout",
     "output_type": "stream",
     "text": [
      "Original Array:\n",
      "[1 2 3]\n",
      "\n",
      "Original Byte Order:\n",
      "=\n",
      "\n",
      "No byte swapping is necessary, as the array's byte order matches the system's native byte order.\n"
     ]
    }
   ],
   "source": [
    "arr = np.array([1, 2, 3], dtype=np.int32)\n",
    "\n",
    "print(\"Original Array:\")\n",
    "print(arr)\n",
    "\n",
    "print(\"\\nOriginal Byte Order:\")\n",
    "print(arr.dtype.byteorder)\n",
    "\n",
    "# Check if byte swapping is necessary for the current system\n",
    "if arr.dtype.byteorder == '=':\n",
    "    print(\"\\nNo byte swapping is necessary, as the array's byte order matches the system's native byte order.\")\n",
    "else:\n",
    "    print(\"\\nByte swapping is necessary, as the array's byte order does not match the system's native byte order.\")"
   ]
  },
  {
   "cell_type": "markdown",
   "id": "e56fba80-69fa-4a9f-9ada-c1379bce3fcf",
   "metadata": {
    "tags": []
   },
   "source": [
    "# 76. Create a NumPy array `arr1` with values from 1 to 10. Create a copy of `arr1` named `copy_arr` and modify an element in `copy_arr`. Check if modifying `copy_arr` affects `arr1`."
   ]
  },
  {
   "cell_type": "code",
   "execution_count": 77,
   "id": "18c9d7bb-ad0c-4ddc-aad4-76501f20b7b3",
   "metadata": {},
   "outputs": [
    {
     "name": "stdout",
     "output_type": "stream",
     "text": [
      "Original Array arr1:\n",
      "[ 1  2  3  4  5  6  7  8  9 10]\n",
      "\n",
      "Copy of arr1 (copy_arr):\n",
      "[ 1  2  3  4  5  6  7  8  9 10]\n",
      "\n",
      "Modified copy_arr:\n",
      "[100   2   3   4   5   6   7   8   9  10]\n",
      "\n",
      "Original Array arr1 after modifying copy_arr:\n",
      "[ 1  2  3  4  5  6  7  8  9 10]\n"
     ]
    }
   ],
   "source": [
    "# Create a NumPy array arr1 with values from 1 to 10\n",
    "arr1 = np.arange(1, 11)\n",
    "print(\"Original Array arr1:\")\n",
    "print(arr1)\n",
    "\n",
    "# Create a copy of arr1 named copy_arr\n",
    "copy_arr = arr1.copy()\n",
    "print(\"\\nCopy of arr1 (copy_arr):\")\n",
    "print(copy_arr)\n",
    "\n",
    "# Modify an element in copy_arr\n",
    "copy_arr[0] = 100\n",
    "print(\"\\nModified copy_arr:\")\n",
    "print(copy_arr)\n",
    "\n",
    "# Check if modifying copy_arr affects arr1\n",
    "print(\"\\nOriginal Array arr1 after modifying copy_arr:\")\n",
    "print(arr1)"
   ]
  },
  {
   "cell_type": "markdown",
   "id": "d84089dd-5cb5-47ed-8dda-7ad70de827e5",
   "metadata": {},
   "source": [
    "# 77. Create a 2D NumPy array `matrix` of shape (3, 3) with random integers. Extract a slice `view_slice` from the matrix. Modify an element in `view_slice` and observe if it changes the original `matrix`."
   ]
  },
  {
   "cell_type": "code",
   "execution_count": 78,
   "id": "c4f7a811-6817-4e0b-9e14-8c13848cfc77",
   "metadata": {},
   "outputs": [
    {
     "name": "stdout",
     "output_type": "stream",
     "text": [
      "Original Matrix:\n",
      "[[2 6 7]\n",
      " [5 6 0]\n",
      " [9 5 6]]\n",
      "\n",
      "Slice View (view_slice):\n",
      "[[6 0]\n",
      " [5 6]]\n",
      "\n",
      "Modified Slice View (view_slice):\n",
      "[[100   0]\n",
      " [  5   6]]\n",
      "\n",
      "Original Matrix after modifying view_slice:\n",
      "[[  2   6   7]\n",
      " [  5 100   0]\n",
      " [  9   5   6]]\n"
     ]
    }
   ],
   "source": [
    "# Create a 2D NumPy array matrix of shape (3, 3) with random integers\n",
    "matrix = np.random.randint(0, 10, size=(3, 3))\n",
    "print(\"Original Matrix:\")\n",
    "print(matrix)\n",
    "\n",
    "# Extract a slice view_slice from the matrix\n",
    "view_slice = matrix[1:, 1:]\n",
    "print(\"\\nSlice View (view_slice):\")\n",
    "print(view_slice)\n",
    "\n",
    "# Modify an element in view_slice\n",
    "view_slice[0, 0] = 100\n",
    "print(\"\\nModified Slice View (view_slice):\")\n",
    "print(view_slice)\n",
    "\n",
    "# Observe if modifying view_slice changes the original matrix\n",
    "print(\"\\nOriginal Matrix after modifying view_slice:\")\n",
    "print(matrix)"
   ]
  },
  {
   "cell_type": "markdown",
   "id": "4342d8f9-1b64-4d0e-93e2-c3b7e198a024",
   "metadata": {},
   "source": [
    "# 78. Create a NumPy array `array_a` of shape (4, 3) with sequential integers from 1 to 12. Extract a slice `view_b` from `array_a` and broadcast the addition of 5 to view_b. Check if it alters the original `array_a`."
   ]
  },
  {
   "cell_type": "code",
   "execution_count": 79,
   "id": "4f3bf33f-8318-42d5-9a05-47239df9c472",
   "metadata": {},
   "outputs": [
    {
     "name": "stdout",
     "output_type": "stream",
     "text": [
      "Original Array array_a:\n",
      "[[ 1  2  3]\n",
      " [ 4  5  6]\n",
      " [ 7  8  9]\n",
      " [10 11 12]]\n",
      "\n",
      "Slice View (view_b):\n",
      "[[ 5  6]\n",
      " [ 8  9]\n",
      " [11 12]]\n",
      "\n",
      "Modified Slice View (view_b) after adding 5:\n",
      "[[10 11]\n",
      " [13 14]\n",
      " [16 17]]\n",
      "\n",
      "Original Array array_a after modifying view_b:\n",
      "[[ 1  2  3]\n",
      " [ 4 10 11]\n",
      " [ 7 13 14]\n",
      " [10 16 17]]\n"
     ]
    }
   ],
   "source": [
    "# Create a NumPy array array_a of shape (4, 3) with sequential integers from 1 to 12\n",
    "array_a = np.arange(1, 13).reshape((4, 3))\n",
    "print(\"Original Array array_a:\")\n",
    "print(array_a)\n",
    "\n",
    "# Extract a slice view_b from array_a\n",
    "view_b = array_a[1:, 1:]\n",
    "print(\"\\nSlice View (view_b):\")\n",
    "print(view_b)\n",
    "\n",
    "# Broadcast the addition of 5 to view_b\n",
    "view_b += 5\n",
    "print(\"\\nModified Slice View (view_b) after adding 5:\")\n",
    "print(view_b)\n",
    "\n",
    "# Check if modifying view_b alters the original array_a\n",
    "print(\"\\nOriginal Array array_a after modifying view_b:\")\n",
    "print(array_a)"
   ]
  },
  {
   "cell_type": "markdown",
   "id": "39199190-27b2-4d9c-b686-f9e959ec609d",
   "metadata": {},
   "source": [
    "# 79. Create a NumPy array `orig_array` of shape (2, 4) with values from 1 to 8. Create a reshaped view `reshaped_view` of shape (4, 2) from orig_array. Modify an element in `reshaped_view` and check if it reflects changes in the original `orig_array`."
   ]
  },
  {
   "cell_type": "code",
   "execution_count": 80,
   "id": "45c663c3-1739-4abb-8916-b65f81a5194a",
   "metadata": {},
   "outputs": [
    {
     "name": "stdout",
     "output_type": "stream",
     "text": [
      "Original Array orig_array:\n",
      "[[1 2 3 4]\n",
      " [5 6 7 8]]\n",
      "\n",
      "Reshaped View reshaped_view:\n",
      "[[1 2]\n",
      " [3 4]\n",
      " [5 6]\n",
      " [7 8]]\n",
      "\n",
      "Modified Reshaped View reshaped_view:\n",
      "[[  1   2]\n",
      " [100   4]\n",
      " [  5   6]\n",
      " [  7   8]]\n",
      "\n",
      "Original Array orig_array after modifying reshaped_view:\n",
      "[[  1   2 100   4]\n",
      " [  5   6   7   8]]\n"
     ]
    }
   ],
   "source": [
    "# Create a NumPy array orig_array of shape (2, 4) with values from 1 to 8\n",
    "orig_array = np.arange(1, 9).reshape((2, 4))\n",
    "print(\"Original Array orig_array:\")\n",
    "print(orig_array)\n",
    "\n",
    "# Create a reshaped view reshaped_view of shape (4, 2) from orig_array\n",
    "reshaped_view = orig_array.reshape((4, 2))\n",
    "print(\"\\nReshaped View reshaped_view:\")\n",
    "print(reshaped_view)\n",
    "\n",
    "# Modify an element in reshaped_view\n",
    "reshaped_view[1, 0] = 100\n",
    "print(\"\\nModified Reshaped View reshaped_view:\")\n",
    "print(reshaped_view)\n",
    "\n",
    "# Check if modifying reshaped_view reflects changes in the original orig_array\n",
    "print(\"\\nOriginal Array orig_array after modifying reshaped_view:\")\n",
    "print(orig_array)"
   ]
  },
  {
   "cell_type": "markdown",
   "id": "6aef1de1-9f67-4c54-9fb3-9ee55a9ec8f3",
   "metadata": {},
   "source": [
    "# 80. Create a NumPy array `data` of shape (3, 4) with random integers. Extract a copy `data_copy` of elements greater than 5. Modify an element in `data_copy` and verify if it affects the original `data`."
   ]
  },
  {
   "cell_type": "code",
   "execution_count": 81,
   "id": "e62a6f98-ed6b-4d6f-801c-a4a472957c69",
   "metadata": {},
   "outputs": [
    {
     "name": "stdout",
     "output_type": "stream",
     "text": [
      "Original Array data:\n",
      "[[5 0 3 3]\n",
      " [7 9 3 5]\n",
      " [2 4 7 6]]\n",
      "\n",
      "Copy of elements greater than 5 (data_copy):\n",
      "[7 9 7 6]\n",
      "\n",
      "Modified Copy data_copy:\n",
      "[100   9   7   6]\n",
      "\n",
      "Original Array data after modifying data_copy:\n",
      "[[5 0 3 3]\n",
      " [7 9 3 5]\n",
      " [2 4 7 6]]\n"
     ]
    }
   ],
   "source": [
    "# Create a NumPy array data of shape (3, 4) with random integers\n",
    "np.random.seed(0)  # For reproducibility\n",
    "data = np.random.randint(0, 10, size=(3, 4))\n",
    "print(\"Original Array data:\")\n",
    "print(data)\n",
    "\n",
    "# Extract a copy data_copy of elements greater than 5\n",
    "data_copy = data[data > 5].copy()\n",
    "print(\"\\nCopy of elements greater than 5 (data_copy):\")\n",
    "print(data_copy)\n",
    "\n",
    "# Modify an element in data_copy\n",
    "data_copy[0] = 100\n",
    "print(\"\\nModified Copy data_copy:\")\n",
    "print(data_copy)\n",
    "\n",
    "# Verify if modifying data_copy affects the original data\n",
    "print(\"\\nOriginal Array data after modifying data_copy:\")\n",
    "print(data)"
   ]
  },
  {
   "cell_type": "markdown",
   "id": "3b045b70-58b5-48d8-92d4-c428c16e3805",
   "metadata": {},
   "source": [
    "# 81. Create two matrices A and B of identical shape containing integers and perform addition and subtraction operations between them."
   ]
  },
  {
   "cell_type": "code",
   "execution_count": 82,
   "id": "8edd06e3-6b5b-497a-96c6-8ce39fdf2a5a",
   "metadata": {},
   "outputs": [
    {
     "name": "stdout",
     "output_type": "stream",
     "text": [
      "Matrix A:\n",
      "[[1 2 3]\n",
      " [4 5 6]\n",
      " [7 8 9]]\n",
      "\n",
      "Matrix B:\n",
      "[[10 11 12]\n",
      " [13 14 15]\n",
      " [16 17 18]]\n",
      "\n",
      "Addition Result (A + B):\n",
      "[[11 13 15]\n",
      " [17 19 21]\n",
      " [23 25 27]]\n",
      "\n",
      "Subtraction Result (A - B):\n",
      "[[-9 -9 -9]\n",
      " [-9 -9 -9]\n",
      " [-9 -9 -9]]\n"
     ]
    }
   ],
   "source": [
    "# Create two matrices A and B of identical shape containing integers\n",
    "A = np.array([[1, 2, 3], [4, 5, 6], [7, 8, 9]])\n",
    "B = np.array([[10, 11, 12], [13, 14, 15], [16, 17, 18]])\n",
    "\n",
    "print(\"Matrix A:\")\n",
    "print(A)\n",
    "print(\"\\nMatrix B:\")\n",
    "print(B)\n",
    "\n",
    "# Perform addition operation between A and B\n",
    "add_result = A + B\n",
    "print(\"\\nAddition Result (A + B):\")\n",
    "print(add_result)\n",
    "\n",
    "# Perform subtraction operation between A and B\n",
    "sub_result = A - B\n",
    "print(\"\\nSubtraction Result (A - B):\")\n",
    "print(sub_result)"
   ]
  },
  {
   "cell_type": "markdown",
   "id": "fbba3a03-76a6-4330-8596-24f0f64664e8",
   "metadata": {},
   "source": [
    "# 82. Generate two matrices `C` (3x2) and `D` (2x4) and perform matrix multiplication."
   ]
  },
  {
   "cell_type": "code",
   "execution_count": 83,
   "id": "afdefdfe-3859-4ad5-81c0-0fb334ee48f9",
   "metadata": {},
   "outputs": [
    {
     "name": "stdout",
     "output_type": "stream",
     "text": [
      "Matrix C:\n",
      "[[1 2]\n",
      " [3 4]\n",
      " [5 6]]\n",
      "\n",
      "Matrix D:\n",
      "[[ 7  8  9 10]\n",
      " [11 12 13 14]]\n",
      "\n",
      "Matrix Multiplication Result (C @ D):\n",
      "[[ 29  32  35  38]\n",
      " [ 65  72  79  86]\n",
      " [101 112 123 134]]\n"
     ]
    }
   ],
   "source": [
    "# Generate two matrices C (3x2) and D (2x4)\n",
    "C = np.array([[1, 2], [3, 4], [5, 6]])\n",
    "D = np.array([[7, 8, 9, 10], [11, 12, 13, 14]])\n",
    "\n",
    "print(\"Matrix C:\")\n",
    "print(C)\n",
    "print(\"\\nMatrix D:\")\n",
    "print(D)\n",
    "\n",
    "# Perform matrix multiplication between C and D\n",
    "mul_result = np.matmul(C, D)\n",
    "print(\"\\nMatrix Multiplication Result (C @ D):\")\n",
    "print(mul_result)"
   ]
  },
  {
   "cell_type": "markdown",
   "id": "cc6a3c60-2b5e-48bc-a652-62974e579813",
   "metadata": {},
   "source": [
    "# 83. Create a matrix `E` and find its transpose."
   ]
  },
  {
   "cell_type": "code",
   "execution_count": 84,
   "id": "295661a3-1bb9-48be-8d30-a6bd191d0ab1",
   "metadata": {},
   "outputs": [
    {
     "name": "stdout",
     "output_type": "stream",
     "text": [
      "Matrix E:\n",
      "[[1 2 3]\n",
      " [4 5 6]\n",
      " [7 8 9]]\n",
      "\n",
      "Transpose of Matrix E:\n",
      "[[1 4 7]\n",
      " [2 5 8]\n",
      " [3 6 9]]\n"
     ]
    }
   ],
   "source": [
    "# Create a matrix E\n",
    "E = np.array([[1, 2, 3], [4, 5, 6], [7, 8, 9]])\n",
    "\n",
    "print(\"Matrix E:\")\n",
    "print(E)\n",
    "\n",
    "# Find the transpose of matrix E\n",
    "E_transpose = E.transpose()\n",
    "print(\"\\nTranspose of Matrix E:\")\n",
    "print(E_transpose)"
   ]
  },
  {
   "cell_type": "markdown",
   "id": "f6d0d57f-4c96-4d93-b641-6e9cc17b61a3",
   "metadata": {},
   "source": [
    "# 84. Generate a square matrix `F` and compute its determinant."
   ]
  },
  {
   "cell_type": "code",
   "execution_count": 85,
   "id": "821c5a40-97fe-4819-8f74-14864b060726",
   "metadata": {},
   "outputs": [
    {
     "name": "stdout",
     "output_type": "stream",
     "text": [
      "Matrix F:\n",
      "[[1 2 3]\n",
      " [0 4 5]\n",
      " [2 3 1]]\n",
      "\n",
      "Determinant of Matrix F:\n",
      "-14.999999999999993\n"
     ]
    }
   ],
   "source": [
    "# Generate a square matrix F\n",
    "F = np.array([[1, 2, 3], [0, 4, 5], [2, 3, 1]])\n",
    "\n",
    "print(\"Matrix F:\")\n",
    "print(F)\n",
    "\n",
    "# Compute the determinant of matrix F\n",
    "det_F = np.linalg.det(F)\n",
    "print(\"\\nDeterminant of Matrix F:\")\n",
    "print(det_F)"
   ]
  },
  {
   "cell_type": "markdown",
   "id": "5e2595dd-c319-4b04-a98a-a63d8b5c1b3a",
   "metadata": {},
   "source": [
    "# 85. Create a square matrix `G` and find its inverse."
   ]
  },
  {
   "cell_type": "code",
   "execution_count": 86,
   "id": "8427b537-165c-4bec-a38d-b94488688ea2",
   "metadata": {},
   "outputs": [
    {
     "name": "stdout",
     "output_type": "stream",
     "text": [
      "Matrix G:\n",
      "[[1 2]\n",
      " [3 4]]\n",
      "\n",
      "Inverse of Matrix G:\n",
      "[[-2.   1. ]\n",
      " [ 1.5 -0.5]]\n"
     ]
    }
   ],
   "source": [
    "# Create a square matrix G\n",
    "G = np.array([[1, 2], [3, 4]])\n",
    "\n",
    "print(\"Matrix G:\")\n",
    "print(G)\n",
    "\n",
    "# Find the inverse of matrix G\n",
    "G_inverse = np.linalg.inv(G)\n",
    "print(\"\\nInverse of Matrix G:\")\n",
    "print(G_inverse)"
   ]
  }
 ],
 "metadata": {
  "kernelspec": {
   "display_name": "Python 3 (ipykernel)",
   "language": "python",
   "name": "python3"
  },
  "language_info": {
   "codemirror_mode": {
    "name": "ipython",
    "version": 3
   },
   "file_extension": ".py",
   "mimetype": "text/x-python",
   "name": "python",
   "nbconvert_exporter": "python",
   "pygments_lexer": "ipython3",
   "version": "3.10.8"
  }
 },
 "nbformat": 4,
 "nbformat_minor": 5
}
